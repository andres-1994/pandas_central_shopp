{
 "cells": [
  {
   "cell_type": "markdown",
   "metadata": {},
   "source": [
    "## Este código está diseñado para analizar el conjunto de datos de ventas de una tienda, explorar sus características, limpiar posibles problemas y generar insights clave."
   ]
  },
  {
   "cell_type": "markdown",
   "metadata": {},
   "source": [
    "Se importa la librería pandas, que se utiliza para la manipulación y análisis de datos estructurados."
   ]
  },
  {
   "cell_type": "code",
   "execution_count": 24,
   "metadata": {},
   "outputs": [],
   "source": [
    "import pandas as pd\n",
    "import plotly.express as px"
   ]
  },
  {
   "cell_type": "markdown",
   "metadata": {},
   "source": [
    "pd.read_csv(\"./ventas_central_shop.csv\"): Lee el archivo CSV ubicado en la ruta especificada y lo convierte en un DataFrame.\n",
    "\n",
    "df: Muestra el contenido del DataFrame."
   ]
  },
  {
   "cell_type": "code",
   "execution_count": 3,
   "metadata": {},
   "outputs": [
    {
     "data": {
      "text/html": [
       "<div>\n",
       "<style scoped>\n",
       "    .dataframe tbody tr th:only-of-type {\n",
       "        vertical-align: middle;\n",
       "    }\n",
       "\n",
       "    .dataframe tbody tr th {\n",
       "        vertical-align: top;\n",
       "    }\n",
       "\n",
       "    .dataframe thead th {\n",
       "        text-align: right;\n",
       "    }\n",
       "</style>\n",
       "<table border=\"1\" class=\"dataframe\">\n",
       "  <thead>\n",
       "    <tr style=\"text-align: right;\">\n",
       "      <th></th>\n",
       "      <th>ID_Venta</th>\n",
       "      <th>Fecha</th>\n",
       "      <th>Producto</th>\n",
       "      <th>Categoria</th>\n",
       "      <th>Precio</th>\n",
       "      <th>Cantidad</th>\n",
       "      <th>Total</th>\n",
       "      <th>Cliente</th>\n",
       "      <th>Region</th>\n",
       "      <th>Tipo_Pago</th>\n",
       "    </tr>\n",
       "  </thead>\n",
       "  <tbody>\n",
       "    <tr>\n",
       "      <th>0</th>\n",
       "      <td>1</td>\n",
       "      <td>2024-01-10</td>\n",
       "      <td>Televisor</td>\n",
       "      <td>Electrodomésticos</td>\n",
       "      <td>400</td>\n",
       "      <td>2</td>\n",
       "      <td>800</td>\n",
       "      <td>Carlos Pérez</td>\n",
       "      <td>Norte</td>\n",
       "      <td>Tigo_Money</td>\n",
       "    </tr>\n",
       "    <tr>\n",
       "      <th>1</th>\n",
       "      <td>2</td>\n",
       "      <td>2024-02-15</td>\n",
       "      <td>Lavadora</td>\n",
       "      <td>Electrodomésticos</td>\n",
       "      <td>300</td>\n",
       "      <td>1</td>\n",
       "      <td>300</td>\n",
       "      <td>María López</td>\n",
       "      <td>Sur</td>\n",
       "      <td>Tigo_Money</td>\n",
       "    </tr>\n",
       "    <tr>\n",
       "      <th>2</th>\n",
       "      <td>3</td>\n",
       "      <td>2024-03-05</td>\n",
       "      <td>Celular</td>\n",
       "      <td>Electrónica</td>\n",
       "      <td>200</td>\n",
       "      <td>3</td>\n",
       "      <td>600</td>\n",
       "      <td>Juan Gómez</td>\n",
       "      <td>Este</td>\n",
       "      <td>Tigo_Money</td>\n",
       "    </tr>\n",
       "    <tr>\n",
       "      <th>3</th>\n",
       "      <td>4</td>\n",
       "      <td>2024-04-20</td>\n",
       "      <td>Aspiradora</td>\n",
       "      <td>Electrodomésticos</td>\n",
       "      <td>150</td>\n",
       "      <td>1</td>\n",
       "      <td>150</td>\n",
       "      <td>Ana Torres</td>\n",
       "      <td>Oeste</td>\n",
       "      <td>Tigo_Money</td>\n",
       "    </tr>\n",
       "    <tr>\n",
       "      <th>4</th>\n",
       "      <td>5</td>\n",
       "      <td>2024-05-12</td>\n",
       "      <td>Laptop</td>\n",
       "      <td>Electrónica</td>\n",
       "      <td>700</td>\n",
       "      <td>1</td>\n",
       "      <td>700</td>\n",
       "      <td>Luis Fernández</td>\n",
       "      <td>Norte</td>\n",
       "      <td>Tigo_Money</td>\n",
       "    </tr>\n",
       "    <tr>\n",
       "      <th>...</th>\n",
       "      <td>...</td>\n",
       "      <td>...</td>\n",
       "      <td>...</td>\n",
       "      <td>...</td>\n",
       "      <td>...</td>\n",
       "      <td>...</td>\n",
       "      <td>...</td>\n",
       "      <td>...</td>\n",
       "      <td>...</td>\n",
       "      <td>...</td>\n",
       "    </tr>\n",
       "    <tr>\n",
       "      <th>153</th>\n",
       "      <td>154</td>\n",
       "      <td>2025-01-24</td>\n",
       "      <td>Aspiradora</td>\n",
       "      <td>Electrónica</td>\n",
       "      <td>650</td>\n",
       "      <td>2</td>\n",
       "      <td>1300</td>\n",
       "      <td>Luis Fernández</td>\n",
       "      <td>Oeste</td>\n",
       "      <td>Efectivo</td>\n",
       "    </tr>\n",
       "    <tr>\n",
       "      <th>154</th>\n",
       "      <td>155</td>\n",
       "      <td>2025-01-25</td>\n",
       "      <td>Microondas</td>\n",
       "      <td>Electrodomésticos</td>\n",
       "      <td>300</td>\n",
       "      <td>4</td>\n",
       "      <td>1200</td>\n",
       "      <td>Sofía Martínez</td>\n",
       "      <td>Este</td>\n",
       "      <td>Tigo_Money</td>\n",
       "    </tr>\n",
       "    <tr>\n",
       "      <th>155</th>\n",
       "      <td>156</td>\n",
       "      <td>2025-01-26</td>\n",
       "      <td>Aspiradora</td>\n",
       "      <td>Electrodomésticos</td>\n",
       "      <td>250</td>\n",
       "      <td>1</td>\n",
       "      <td>250</td>\n",
       "      <td>Ana Torres</td>\n",
       "      <td>Oeste</td>\n",
       "      <td>Efectivo</td>\n",
       "    </tr>\n",
       "    <tr>\n",
       "      <th>156</th>\n",
       "      <td>157</td>\n",
       "      <td>2025-01-27</td>\n",
       "      <td>Aspiradora</td>\n",
       "      <td>Electrónica</td>\n",
       "      <td>150</td>\n",
       "      <td>1</td>\n",
       "      <td>150</td>\n",
       "      <td>Ana Torres</td>\n",
       "      <td>Este</td>\n",
       "      <td>Personal_Pay</td>\n",
       "    </tr>\n",
       "    <tr>\n",
       "      <th>157</th>\n",
       "      <td>158</td>\n",
       "      <td>2025-01-28</td>\n",
       "      <td>Microondas</td>\n",
       "      <td>Electrónica</td>\n",
       "      <td>650</td>\n",
       "      <td>3</td>\n",
       "      <td>1950</td>\n",
       "      <td>María López</td>\n",
       "      <td>Este</td>\n",
       "      <td>Personal_Pay</td>\n",
       "    </tr>\n",
       "  </tbody>\n",
       "</table>\n",
       "<p>158 rows × 10 columns</p>\n",
       "</div>"
      ],
      "text/plain": [
       "     ID_Venta       Fecha    Producto          Categoria  Precio  Cantidad  \\\n",
       "0           1  2024-01-10   Televisor  Electrodomésticos     400         2   \n",
       "1           2  2024-02-15    Lavadora  Electrodomésticos     300         1   \n",
       "2           3  2024-03-05     Celular        Electrónica     200         3   \n",
       "3           4  2024-04-20  Aspiradora  Electrodomésticos     150         1   \n",
       "4           5  2024-05-12      Laptop        Electrónica     700         1   \n",
       "..        ...         ...         ...                ...     ...       ...   \n",
       "153       154  2025-01-24  Aspiradora        Electrónica     650         2   \n",
       "154       155  2025-01-25  Microondas  Electrodomésticos     300         4   \n",
       "155       156  2025-01-26  Aspiradora  Electrodomésticos     250         1   \n",
       "156       157  2025-01-27  Aspiradora        Electrónica     150         1   \n",
       "157       158  2025-01-28  Microondas        Electrónica     650         3   \n",
       "\n",
       "     Total         Cliente Region     Tipo_Pago  \n",
       "0      800    Carlos Pérez  Norte    Tigo_Money  \n",
       "1      300     María López    Sur    Tigo_Money  \n",
       "2      600      Juan Gómez   Este    Tigo_Money  \n",
       "3      150      Ana Torres  Oeste    Tigo_Money  \n",
       "4      700  Luis Fernández  Norte    Tigo_Money  \n",
       "..     ...             ...    ...           ...  \n",
       "153   1300  Luis Fernández  Oeste      Efectivo  \n",
       "154   1200  Sofía Martínez   Este    Tigo_Money  \n",
       "155    250      Ana Torres  Oeste      Efectivo  \n",
       "156    150      Ana Torres   Este  Personal_Pay  \n",
       "157   1950     María López   Este  Personal_Pay  \n",
       "\n",
       "[158 rows x 10 columns]"
      ]
     },
     "execution_count": 3,
     "metadata": {},
     "output_type": "execute_result"
    }
   ],
   "source": [
    "df = pd.read_csv(\"./ventas_central_shop.csv\")\n",
    "df"
   ]
  },
  {
   "cell_type": "markdown",
   "metadata": {},
   "source": [
    "Muestra un resumen informativo del DataFrame, incluyendo:\n",
    "- Número total de entradas (filas).\n",
    "- Número de columnas.\n",
    "- Tipos de datos de cada columna.\n",
    "- Cantidad de valores no nulos por columna."
   ]
  },
  {
   "cell_type": "code",
   "execution_count": 8,
   "metadata": {},
   "outputs": [
    {
     "name": "stdout",
     "output_type": "stream",
     "text": [
      "<class 'pandas.core.frame.DataFrame'>\n",
      "RangeIndex: 158 entries, 0 to 157\n",
      "Data columns (total 10 columns):\n",
      " #   Column     Non-Null Count  Dtype \n",
      "---  ------     --------------  ----- \n",
      " 0   ID_Venta   158 non-null    int64 \n",
      " 1   Fecha      158 non-null    object\n",
      " 2   Producto   158 non-null    object\n",
      " 3   Categoria  158 non-null    object\n",
      " 4   Precio     158 non-null    int64 \n",
      " 5   Cantidad   158 non-null    int64 \n",
      " 6   Total      158 non-null    int64 \n",
      " 7   Cliente    158 non-null    object\n",
      " 8   Region     158 non-null    object\n",
      " 9   Tipo_Pago  158 non-null    object\n",
      "dtypes: int64(4), object(6)\n",
      "memory usage: 12.5+ KB\n"
     ]
    }
   ],
   "source": [
    "df.info()"
   ]
  },
  {
   "cell_type": "markdown",
   "metadata": {},
   "source": [
    "df.head(): Muestra las primeras 5 filas del DataFrame (por defecto)."
   ]
  },
  {
   "cell_type": "code",
   "execution_count": 9,
   "metadata": {},
   "outputs": [
    {
     "data": {
      "text/html": [
       "<div>\n",
       "<style scoped>\n",
       "    .dataframe tbody tr th:only-of-type {\n",
       "        vertical-align: middle;\n",
       "    }\n",
       "\n",
       "    .dataframe tbody tr th {\n",
       "        vertical-align: top;\n",
       "    }\n",
       "\n",
       "    .dataframe thead th {\n",
       "        text-align: right;\n",
       "    }\n",
       "</style>\n",
       "<table border=\"1\" class=\"dataframe\">\n",
       "  <thead>\n",
       "    <tr style=\"text-align: right;\">\n",
       "      <th></th>\n",
       "      <th>ID_Venta</th>\n",
       "      <th>Fecha</th>\n",
       "      <th>Producto</th>\n",
       "      <th>Categoria</th>\n",
       "      <th>Precio</th>\n",
       "      <th>Cantidad</th>\n",
       "      <th>Total</th>\n",
       "      <th>Cliente</th>\n",
       "      <th>Region</th>\n",
       "      <th>Tipo_Pago</th>\n",
       "    </tr>\n",
       "  </thead>\n",
       "  <tbody>\n",
       "    <tr>\n",
       "      <th>0</th>\n",
       "      <td>1</td>\n",
       "      <td>2024-01-10</td>\n",
       "      <td>Televisor</td>\n",
       "      <td>Electrodomésticos</td>\n",
       "      <td>400</td>\n",
       "      <td>2</td>\n",
       "      <td>800</td>\n",
       "      <td>Carlos Pérez</td>\n",
       "      <td>Norte</td>\n",
       "      <td>Tigo_Money</td>\n",
       "    </tr>\n",
       "    <tr>\n",
       "      <th>1</th>\n",
       "      <td>2</td>\n",
       "      <td>2024-02-15</td>\n",
       "      <td>Lavadora</td>\n",
       "      <td>Electrodomésticos</td>\n",
       "      <td>300</td>\n",
       "      <td>1</td>\n",
       "      <td>300</td>\n",
       "      <td>María López</td>\n",
       "      <td>Sur</td>\n",
       "      <td>Tigo_Money</td>\n",
       "    </tr>\n",
       "    <tr>\n",
       "      <th>2</th>\n",
       "      <td>3</td>\n",
       "      <td>2024-03-05</td>\n",
       "      <td>Celular</td>\n",
       "      <td>Electrónica</td>\n",
       "      <td>200</td>\n",
       "      <td>3</td>\n",
       "      <td>600</td>\n",
       "      <td>Juan Gómez</td>\n",
       "      <td>Este</td>\n",
       "      <td>Tigo_Money</td>\n",
       "    </tr>\n",
       "    <tr>\n",
       "      <th>3</th>\n",
       "      <td>4</td>\n",
       "      <td>2024-04-20</td>\n",
       "      <td>Aspiradora</td>\n",
       "      <td>Electrodomésticos</td>\n",
       "      <td>150</td>\n",
       "      <td>1</td>\n",
       "      <td>150</td>\n",
       "      <td>Ana Torres</td>\n",
       "      <td>Oeste</td>\n",
       "      <td>Tigo_Money</td>\n",
       "    </tr>\n",
       "    <tr>\n",
       "      <th>4</th>\n",
       "      <td>5</td>\n",
       "      <td>2024-05-12</td>\n",
       "      <td>Laptop</td>\n",
       "      <td>Electrónica</td>\n",
       "      <td>700</td>\n",
       "      <td>1</td>\n",
       "      <td>700</td>\n",
       "      <td>Luis Fernández</td>\n",
       "      <td>Norte</td>\n",
       "      <td>Tigo_Money</td>\n",
       "    </tr>\n",
       "  </tbody>\n",
       "</table>\n",
       "</div>"
      ],
      "text/plain": [
       "   ID_Venta       Fecha    Producto          Categoria  Precio  Cantidad  \\\n",
       "0         1  2024-01-10   Televisor  Electrodomésticos     400         2   \n",
       "1         2  2024-02-15    Lavadora  Electrodomésticos     300         1   \n",
       "2         3  2024-03-05     Celular        Electrónica     200         3   \n",
       "3         4  2024-04-20  Aspiradora  Electrodomésticos     150         1   \n",
       "4         5  2024-05-12      Laptop        Electrónica     700         1   \n",
       "\n",
       "   Total         Cliente Region   Tipo_Pago  \n",
       "0    800    Carlos Pérez  Norte  Tigo_Money  \n",
       "1    300     María López    Sur  Tigo_Money  \n",
       "2    600      Juan Gómez   Este  Tigo_Money  \n",
       "3    150      Ana Torres  Oeste  Tigo_Money  \n",
       "4    700  Luis Fernández  Norte  Tigo_Money  "
      ]
     },
     "execution_count": 9,
     "metadata": {},
     "output_type": "execute_result"
    }
   ],
   "source": [
    "df.head()"
   ]
  },
  {
   "cell_type": "markdown",
   "metadata": {},
   "source": [
    "df.head(10): Muestra las primeras 10 filas del DataFrame."
   ]
  },
  {
   "cell_type": "code",
   "execution_count": 14,
   "metadata": {},
   "outputs": [
    {
     "data": {
      "text/html": [
       "<div>\n",
       "<style scoped>\n",
       "    .dataframe tbody tr th:only-of-type {\n",
       "        vertical-align: middle;\n",
       "    }\n",
       "\n",
       "    .dataframe tbody tr th {\n",
       "        vertical-align: top;\n",
       "    }\n",
       "\n",
       "    .dataframe thead th {\n",
       "        text-align: right;\n",
       "    }\n",
       "</style>\n",
       "<table border=\"1\" class=\"dataframe\">\n",
       "  <thead>\n",
       "    <tr style=\"text-align: right;\">\n",
       "      <th></th>\n",
       "      <th>ID_Venta</th>\n",
       "      <th>Fecha</th>\n",
       "      <th>Producto</th>\n",
       "      <th>Categoria</th>\n",
       "      <th>Precio</th>\n",
       "      <th>Cantidad</th>\n",
       "      <th>Total</th>\n",
       "      <th>Cliente</th>\n",
       "      <th>Region</th>\n",
       "      <th>Tipo_Pago</th>\n",
       "    </tr>\n",
       "  </thead>\n",
       "  <tbody>\n",
       "    <tr>\n",
       "      <th>0</th>\n",
       "      <td>1</td>\n",
       "      <td>2024-01-10</td>\n",
       "      <td>Televisor</td>\n",
       "      <td>Electrodomésticos</td>\n",
       "      <td>400</td>\n",
       "      <td>2</td>\n",
       "      <td>800</td>\n",
       "      <td>Carlos Pérez</td>\n",
       "      <td>Norte</td>\n",
       "      <td>Tigo_Money</td>\n",
       "    </tr>\n",
       "    <tr>\n",
       "      <th>1</th>\n",
       "      <td>2</td>\n",
       "      <td>2024-02-15</td>\n",
       "      <td>Lavadora</td>\n",
       "      <td>Electrodomésticos</td>\n",
       "      <td>300</td>\n",
       "      <td>1</td>\n",
       "      <td>300</td>\n",
       "      <td>María López</td>\n",
       "      <td>Sur</td>\n",
       "      <td>Tigo_Money</td>\n",
       "    </tr>\n",
       "    <tr>\n",
       "      <th>2</th>\n",
       "      <td>3</td>\n",
       "      <td>2024-03-05</td>\n",
       "      <td>Celular</td>\n",
       "      <td>Electrónica</td>\n",
       "      <td>200</td>\n",
       "      <td>3</td>\n",
       "      <td>600</td>\n",
       "      <td>Juan Gómez</td>\n",
       "      <td>Este</td>\n",
       "      <td>Tigo_Money</td>\n",
       "    </tr>\n",
       "    <tr>\n",
       "      <th>3</th>\n",
       "      <td>4</td>\n",
       "      <td>2024-04-20</td>\n",
       "      <td>Aspiradora</td>\n",
       "      <td>Electrodomésticos</td>\n",
       "      <td>150</td>\n",
       "      <td>1</td>\n",
       "      <td>150</td>\n",
       "      <td>Ana Torres</td>\n",
       "      <td>Oeste</td>\n",
       "      <td>Tigo_Money</td>\n",
       "    </tr>\n",
       "    <tr>\n",
       "      <th>4</th>\n",
       "      <td>5</td>\n",
       "      <td>2024-05-12</td>\n",
       "      <td>Laptop</td>\n",
       "      <td>Electrónica</td>\n",
       "      <td>700</td>\n",
       "      <td>1</td>\n",
       "      <td>700</td>\n",
       "      <td>Luis Fernández</td>\n",
       "      <td>Norte</td>\n",
       "      <td>Tigo_Money</td>\n",
       "    </tr>\n",
       "    <tr>\n",
       "      <th>5</th>\n",
       "      <td>6</td>\n",
       "      <td>2024-06-30</td>\n",
       "      <td>Microondas</td>\n",
       "      <td>Electrodomésticos</td>\n",
       "      <td>120</td>\n",
       "      <td>2</td>\n",
       "      <td>240</td>\n",
       "      <td>Sofía Martínez</td>\n",
       "      <td>Sur</td>\n",
       "      <td>Tigo_Money</td>\n",
       "    </tr>\n",
       "    <tr>\n",
       "      <th>6</th>\n",
       "      <td>7</td>\n",
       "      <td>2024-07-15</td>\n",
       "      <td>Tablet</td>\n",
       "      <td>Electrónica</td>\n",
       "      <td>300</td>\n",
       "      <td>2</td>\n",
       "      <td>600</td>\n",
       "      <td>Pedro Castillo</td>\n",
       "      <td>Este</td>\n",
       "      <td>Tigo_Money</td>\n",
       "    </tr>\n",
       "    <tr>\n",
       "      <th>7</th>\n",
       "      <td>8</td>\n",
       "      <td>2024-08-10</td>\n",
       "      <td>Cámara</td>\n",
       "      <td>Electrónica</td>\n",
       "      <td>500</td>\n",
       "      <td>1</td>\n",
       "      <td>500</td>\n",
       "      <td>Lucía García</td>\n",
       "      <td>Oeste</td>\n",
       "      <td>Tigo_Money</td>\n",
       "    </tr>\n",
       "    <tr>\n",
       "      <th>8</th>\n",
       "      <td>9</td>\n",
       "      <td>2024-09-01</td>\n",
       "      <td>Tablet</td>\n",
       "      <td>Electrónica</td>\n",
       "      <td>250</td>\n",
       "      <td>3</td>\n",
       "      <td>750</td>\n",
       "      <td>Juan Gómez</td>\n",
       "      <td>Norte</td>\n",
       "      <td>Transferencia</td>\n",
       "    </tr>\n",
       "    <tr>\n",
       "      <th>9</th>\n",
       "      <td>10</td>\n",
       "      <td>2024-09-02</td>\n",
       "      <td>Lavadora</td>\n",
       "      <td>Electrónica</td>\n",
       "      <td>750</td>\n",
       "      <td>3</td>\n",
       "      <td>2250</td>\n",
       "      <td>Juan Gómez</td>\n",
       "      <td>Oeste</td>\n",
       "      <td>Efectivo</td>\n",
       "    </tr>\n",
       "  </tbody>\n",
       "</table>\n",
       "</div>"
      ],
      "text/plain": [
       "   ID_Venta       Fecha    Producto          Categoria  Precio  Cantidad  \\\n",
       "0         1  2024-01-10   Televisor  Electrodomésticos     400         2   \n",
       "1         2  2024-02-15    Lavadora  Electrodomésticos     300         1   \n",
       "2         3  2024-03-05     Celular        Electrónica     200         3   \n",
       "3         4  2024-04-20  Aspiradora  Electrodomésticos     150         1   \n",
       "4         5  2024-05-12      Laptop        Electrónica     700         1   \n",
       "5         6  2024-06-30  Microondas  Electrodomésticos     120         2   \n",
       "6         7  2024-07-15      Tablet        Electrónica     300         2   \n",
       "7         8  2024-08-10      Cámara        Electrónica     500         1   \n",
       "8         9  2024-09-01      Tablet        Electrónica     250         3   \n",
       "9        10  2024-09-02    Lavadora        Electrónica     750         3   \n",
       "\n",
       "   Total         Cliente Region      Tipo_Pago  \n",
       "0    800    Carlos Pérez  Norte     Tigo_Money  \n",
       "1    300     María López    Sur     Tigo_Money  \n",
       "2    600      Juan Gómez   Este     Tigo_Money  \n",
       "3    150      Ana Torres  Oeste     Tigo_Money  \n",
       "4    700  Luis Fernández  Norte     Tigo_Money  \n",
       "5    240  Sofía Martínez    Sur     Tigo_Money  \n",
       "6    600  Pedro Castillo   Este     Tigo_Money  \n",
       "7    500    Lucía García  Oeste     Tigo_Money  \n",
       "8    750      Juan Gómez  Norte  Transferencia  \n",
       "9   2250      Juan Gómez  Oeste       Efectivo  "
      ]
     },
     "execution_count": 14,
     "metadata": {},
     "output_type": "execute_result"
    }
   ],
   "source": [
    "df.head(10)"
   ]
  },
  {
   "cell_type": "markdown",
   "metadata": {},
   "source": [
    "Genera estadísticas descriptivas para las columnas numéricas, como:\n",
    "- Media, desviación estándar, mínimo, máximo y percentiles"
   ]
  },
  {
   "cell_type": "code",
   "execution_count": 15,
   "metadata": {},
   "outputs": [
    {
     "data": {
      "text/html": [
       "<div>\n",
       "<style scoped>\n",
       "    .dataframe tbody tr th:only-of-type {\n",
       "        vertical-align: middle;\n",
       "    }\n",
       "\n",
       "    .dataframe tbody tr th {\n",
       "        vertical-align: top;\n",
       "    }\n",
       "\n",
       "    .dataframe thead th {\n",
       "        text-align: right;\n",
       "    }\n",
       "</style>\n",
       "<table border=\"1\" class=\"dataframe\">\n",
       "  <thead>\n",
       "    <tr style=\"text-align: right;\">\n",
       "      <th></th>\n",
       "      <th>ID_Venta</th>\n",
       "      <th>Precio</th>\n",
       "      <th>Cantidad</th>\n",
       "      <th>Total</th>\n",
       "    </tr>\n",
       "  </thead>\n",
       "  <tbody>\n",
       "    <tr>\n",
       "      <th>count</th>\n",
       "      <td>158.000000</td>\n",
       "      <td>158.000000</td>\n",
       "      <td>158.000000</td>\n",
       "      <td>158.000000</td>\n",
       "    </tr>\n",
       "    <tr>\n",
       "      <th>mean</th>\n",
       "      <td>79.500000</td>\n",
       "      <td>517.215190</td>\n",
       "      <td>2.310127</td>\n",
       "      <td>1185.379747</td>\n",
       "    </tr>\n",
       "    <tr>\n",
       "      <th>std</th>\n",
       "      <td>45.754781</td>\n",
       "      <td>255.108004</td>\n",
       "      <td>1.139348</td>\n",
       "      <td>867.000566</td>\n",
       "    </tr>\n",
       "    <tr>\n",
       "      <th>min</th>\n",
       "      <td>1.000000</td>\n",
       "      <td>100.000000</td>\n",
       "      <td>1.000000</td>\n",
       "      <td>100.000000</td>\n",
       "    </tr>\n",
       "    <tr>\n",
       "      <th>25%</th>\n",
       "      <td>40.250000</td>\n",
       "      <td>300.000000</td>\n",
       "      <td>1.000000</td>\n",
       "      <td>600.000000</td>\n",
       "    </tr>\n",
       "    <tr>\n",
       "      <th>50%</th>\n",
       "      <td>79.500000</td>\n",
       "      <td>500.000000</td>\n",
       "      <td>2.000000</td>\n",
       "      <td>875.000000</td>\n",
       "    </tr>\n",
       "    <tr>\n",
       "      <th>75%</th>\n",
       "      <td>118.750000</td>\n",
       "      <td>700.000000</td>\n",
       "      <td>3.000000</td>\n",
       "      <td>1800.000000</td>\n",
       "    </tr>\n",
       "    <tr>\n",
       "      <th>max</th>\n",
       "      <td>158.000000</td>\n",
       "      <td>950.000000</td>\n",
       "      <td>4.000000</td>\n",
       "      <td>3400.000000</td>\n",
       "    </tr>\n",
       "  </tbody>\n",
       "</table>\n",
       "</div>"
      ],
      "text/plain": [
       "         ID_Venta      Precio    Cantidad        Total\n",
       "count  158.000000  158.000000  158.000000   158.000000\n",
       "mean    79.500000  517.215190    2.310127  1185.379747\n",
       "std     45.754781  255.108004    1.139348   867.000566\n",
       "min      1.000000  100.000000    1.000000   100.000000\n",
       "25%     40.250000  300.000000    1.000000   600.000000\n",
       "50%     79.500000  500.000000    2.000000   875.000000\n",
       "75%    118.750000  700.000000    3.000000  1800.000000\n",
       "max    158.000000  950.000000    4.000000  3400.000000"
      ]
     },
     "execution_count": 15,
     "metadata": {},
     "output_type": "execute_result"
    }
   ],
   "source": [
    "df.describe()"
   ]
  },
  {
   "cell_type": "markdown",
   "metadata": {},
   "source": [
    "df.tail(): Muestra las últimas 5 filas del DataFrame (por defecto)"
   ]
  },
  {
   "cell_type": "code",
   "execution_count": 16,
   "metadata": {},
   "outputs": [
    {
     "data": {
      "text/html": [
       "<div>\n",
       "<style scoped>\n",
       "    .dataframe tbody tr th:only-of-type {\n",
       "        vertical-align: middle;\n",
       "    }\n",
       "\n",
       "    .dataframe tbody tr th {\n",
       "        vertical-align: top;\n",
       "    }\n",
       "\n",
       "    .dataframe thead th {\n",
       "        text-align: right;\n",
       "    }\n",
       "</style>\n",
       "<table border=\"1\" class=\"dataframe\">\n",
       "  <thead>\n",
       "    <tr style=\"text-align: right;\">\n",
       "      <th></th>\n",
       "      <th>ID_Venta</th>\n",
       "      <th>Fecha</th>\n",
       "      <th>Producto</th>\n",
       "      <th>Categoria</th>\n",
       "      <th>Precio</th>\n",
       "      <th>Cantidad</th>\n",
       "      <th>Total</th>\n",
       "      <th>Cliente</th>\n",
       "      <th>Region</th>\n",
       "      <th>Tipo_Pago</th>\n",
       "    </tr>\n",
       "  </thead>\n",
       "  <tbody>\n",
       "    <tr>\n",
       "      <th>153</th>\n",
       "      <td>154</td>\n",
       "      <td>2025-01-24</td>\n",
       "      <td>Aspiradora</td>\n",
       "      <td>Electrónica</td>\n",
       "      <td>650</td>\n",
       "      <td>2</td>\n",
       "      <td>1300</td>\n",
       "      <td>Luis Fernández</td>\n",
       "      <td>Oeste</td>\n",
       "      <td>Efectivo</td>\n",
       "    </tr>\n",
       "    <tr>\n",
       "      <th>154</th>\n",
       "      <td>155</td>\n",
       "      <td>2025-01-25</td>\n",
       "      <td>Microondas</td>\n",
       "      <td>Electrodomésticos</td>\n",
       "      <td>300</td>\n",
       "      <td>4</td>\n",
       "      <td>1200</td>\n",
       "      <td>Sofía Martínez</td>\n",
       "      <td>Este</td>\n",
       "      <td>Tigo_Money</td>\n",
       "    </tr>\n",
       "    <tr>\n",
       "      <th>155</th>\n",
       "      <td>156</td>\n",
       "      <td>2025-01-26</td>\n",
       "      <td>Aspiradora</td>\n",
       "      <td>Electrodomésticos</td>\n",
       "      <td>250</td>\n",
       "      <td>1</td>\n",
       "      <td>250</td>\n",
       "      <td>Ana Torres</td>\n",
       "      <td>Oeste</td>\n",
       "      <td>Efectivo</td>\n",
       "    </tr>\n",
       "    <tr>\n",
       "      <th>156</th>\n",
       "      <td>157</td>\n",
       "      <td>2025-01-27</td>\n",
       "      <td>Aspiradora</td>\n",
       "      <td>Electrónica</td>\n",
       "      <td>150</td>\n",
       "      <td>1</td>\n",
       "      <td>150</td>\n",
       "      <td>Ana Torres</td>\n",
       "      <td>Este</td>\n",
       "      <td>Personal_Pay</td>\n",
       "    </tr>\n",
       "    <tr>\n",
       "      <th>157</th>\n",
       "      <td>158</td>\n",
       "      <td>2025-01-28</td>\n",
       "      <td>Microondas</td>\n",
       "      <td>Electrónica</td>\n",
       "      <td>650</td>\n",
       "      <td>3</td>\n",
       "      <td>1950</td>\n",
       "      <td>María López</td>\n",
       "      <td>Este</td>\n",
       "      <td>Personal_Pay</td>\n",
       "    </tr>\n",
       "  </tbody>\n",
       "</table>\n",
       "</div>"
      ],
      "text/plain": [
       "     ID_Venta       Fecha    Producto          Categoria  Precio  Cantidad  \\\n",
       "153       154  2025-01-24  Aspiradora        Electrónica     650         2   \n",
       "154       155  2025-01-25  Microondas  Electrodomésticos     300         4   \n",
       "155       156  2025-01-26  Aspiradora  Electrodomésticos     250         1   \n",
       "156       157  2025-01-27  Aspiradora        Electrónica     150         1   \n",
       "157       158  2025-01-28  Microondas        Electrónica     650         3   \n",
       "\n",
       "     Total         Cliente Region     Tipo_Pago  \n",
       "153   1300  Luis Fernández  Oeste      Efectivo  \n",
       "154   1200  Sofía Martínez   Este    Tigo_Money  \n",
       "155    250      Ana Torres  Oeste      Efectivo  \n",
       "156    150      Ana Torres   Este  Personal_Pay  \n",
       "157   1950     María López   Este  Personal_Pay  "
      ]
     },
     "execution_count": 16,
     "metadata": {},
     "output_type": "execute_result"
    }
   ],
   "source": [
    "df.tail()"
   ]
  },
  {
   "cell_type": "markdown",
   "metadata": {},
   "source": [
    "df.tail(10): Muestra las últimas 10 filas del DataFrame"
   ]
  },
  {
   "cell_type": "code",
   "execution_count": 17,
   "metadata": {},
   "outputs": [
    {
     "data": {
      "text/html": [
       "<div>\n",
       "<style scoped>\n",
       "    .dataframe tbody tr th:only-of-type {\n",
       "        vertical-align: middle;\n",
       "    }\n",
       "\n",
       "    .dataframe tbody tr th {\n",
       "        vertical-align: top;\n",
       "    }\n",
       "\n",
       "    .dataframe thead th {\n",
       "        text-align: right;\n",
       "    }\n",
       "</style>\n",
       "<table border=\"1\" class=\"dataframe\">\n",
       "  <thead>\n",
       "    <tr style=\"text-align: right;\">\n",
       "      <th></th>\n",
       "      <th>ID_Venta</th>\n",
       "      <th>Fecha</th>\n",
       "      <th>Producto</th>\n",
       "      <th>Categoria</th>\n",
       "      <th>Precio</th>\n",
       "      <th>Cantidad</th>\n",
       "      <th>Total</th>\n",
       "      <th>Cliente</th>\n",
       "      <th>Region</th>\n",
       "      <th>Tipo_Pago</th>\n",
       "    </tr>\n",
       "  </thead>\n",
       "  <tbody>\n",
       "    <tr>\n",
       "      <th>148</th>\n",
       "      <td>149</td>\n",
       "      <td>2025-01-19</td>\n",
       "      <td>Laptop</td>\n",
       "      <td>Electrodomésticos</td>\n",
       "      <td>450</td>\n",
       "      <td>2</td>\n",
       "      <td>900</td>\n",
       "      <td>Luis Fernández</td>\n",
       "      <td>Sur</td>\n",
       "      <td>Personal_Pay</td>\n",
       "    </tr>\n",
       "    <tr>\n",
       "      <th>149</th>\n",
       "      <td>150</td>\n",
       "      <td>2025-01-20</td>\n",
       "      <td>Aspiradora</td>\n",
       "      <td>Electrodomésticos</td>\n",
       "      <td>750</td>\n",
       "      <td>2</td>\n",
       "      <td>1500</td>\n",
       "      <td>Luis Fernández</td>\n",
       "      <td>Sur</td>\n",
       "      <td>Transferencia</td>\n",
       "    </tr>\n",
       "    <tr>\n",
       "      <th>150</th>\n",
       "      <td>151</td>\n",
       "      <td>2025-01-21</td>\n",
       "      <td>Lavadora</td>\n",
       "      <td>Electrodomésticos</td>\n",
       "      <td>100</td>\n",
       "      <td>1</td>\n",
       "      <td>100</td>\n",
       "      <td>Carlos Pérez</td>\n",
       "      <td>Sur</td>\n",
       "      <td>Tigo_Money</td>\n",
       "    </tr>\n",
       "    <tr>\n",
       "      <th>151</th>\n",
       "      <td>152</td>\n",
       "      <td>2025-01-22</td>\n",
       "      <td>Tablet</td>\n",
       "      <td>Electrodomésticos</td>\n",
       "      <td>600</td>\n",
       "      <td>1</td>\n",
       "      <td>600</td>\n",
       "      <td>Luis Fernández</td>\n",
       "      <td>Oeste</td>\n",
       "      <td>Efectivo</td>\n",
       "    </tr>\n",
       "    <tr>\n",
       "      <th>152</th>\n",
       "      <td>153</td>\n",
       "      <td>2025-01-23</td>\n",
       "      <td>Laptop</td>\n",
       "      <td>Electrónica</td>\n",
       "      <td>650</td>\n",
       "      <td>1</td>\n",
       "      <td>650</td>\n",
       "      <td>Carlos Pérez</td>\n",
       "      <td>Oeste</td>\n",
       "      <td>Tigo_Money</td>\n",
       "    </tr>\n",
       "    <tr>\n",
       "      <th>153</th>\n",
       "      <td>154</td>\n",
       "      <td>2025-01-24</td>\n",
       "      <td>Aspiradora</td>\n",
       "      <td>Electrónica</td>\n",
       "      <td>650</td>\n",
       "      <td>2</td>\n",
       "      <td>1300</td>\n",
       "      <td>Luis Fernández</td>\n",
       "      <td>Oeste</td>\n",
       "      <td>Efectivo</td>\n",
       "    </tr>\n",
       "    <tr>\n",
       "      <th>154</th>\n",
       "      <td>155</td>\n",
       "      <td>2025-01-25</td>\n",
       "      <td>Microondas</td>\n",
       "      <td>Electrodomésticos</td>\n",
       "      <td>300</td>\n",
       "      <td>4</td>\n",
       "      <td>1200</td>\n",
       "      <td>Sofía Martínez</td>\n",
       "      <td>Este</td>\n",
       "      <td>Tigo_Money</td>\n",
       "    </tr>\n",
       "    <tr>\n",
       "      <th>155</th>\n",
       "      <td>156</td>\n",
       "      <td>2025-01-26</td>\n",
       "      <td>Aspiradora</td>\n",
       "      <td>Electrodomésticos</td>\n",
       "      <td>250</td>\n",
       "      <td>1</td>\n",
       "      <td>250</td>\n",
       "      <td>Ana Torres</td>\n",
       "      <td>Oeste</td>\n",
       "      <td>Efectivo</td>\n",
       "    </tr>\n",
       "    <tr>\n",
       "      <th>156</th>\n",
       "      <td>157</td>\n",
       "      <td>2025-01-27</td>\n",
       "      <td>Aspiradora</td>\n",
       "      <td>Electrónica</td>\n",
       "      <td>150</td>\n",
       "      <td>1</td>\n",
       "      <td>150</td>\n",
       "      <td>Ana Torres</td>\n",
       "      <td>Este</td>\n",
       "      <td>Personal_Pay</td>\n",
       "    </tr>\n",
       "    <tr>\n",
       "      <th>157</th>\n",
       "      <td>158</td>\n",
       "      <td>2025-01-28</td>\n",
       "      <td>Microondas</td>\n",
       "      <td>Electrónica</td>\n",
       "      <td>650</td>\n",
       "      <td>3</td>\n",
       "      <td>1950</td>\n",
       "      <td>María López</td>\n",
       "      <td>Este</td>\n",
       "      <td>Personal_Pay</td>\n",
       "    </tr>\n",
       "  </tbody>\n",
       "</table>\n",
       "</div>"
      ],
      "text/plain": [
       "     ID_Venta       Fecha    Producto          Categoria  Precio  Cantidad  \\\n",
       "148       149  2025-01-19      Laptop  Electrodomésticos     450         2   \n",
       "149       150  2025-01-20  Aspiradora  Electrodomésticos     750         2   \n",
       "150       151  2025-01-21    Lavadora  Electrodomésticos     100         1   \n",
       "151       152  2025-01-22      Tablet  Electrodomésticos     600         1   \n",
       "152       153  2025-01-23      Laptop        Electrónica     650         1   \n",
       "153       154  2025-01-24  Aspiradora        Electrónica     650         2   \n",
       "154       155  2025-01-25  Microondas  Electrodomésticos     300         4   \n",
       "155       156  2025-01-26  Aspiradora  Electrodomésticos     250         1   \n",
       "156       157  2025-01-27  Aspiradora        Electrónica     150         1   \n",
       "157       158  2025-01-28  Microondas        Electrónica     650         3   \n",
       "\n",
       "     Total         Cliente Region      Tipo_Pago  \n",
       "148    900  Luis Fernández    Sur   Personal_Pay  \n",
       "149   1500  Luis Fernández    Sur  Transferencia  \n",
       "150    100    Carlos Pérez    Sur     Tigo_Money  \n",
       "151    600  Luis Fernández  Oeste       Efectivo  \n",
       "152    650    Carlos Pérez  Oeste     Tigo_Money  \n",
       "153   1300  Luis Fernández  Oeste       Efectivo  \n",
       "154   1200  Sofía Martínez   Este     Tigo_Money  \n",
       "155    250      Ana Torres  Oeste       Efectivo  \n",
       "156    150      Ana Torres   Este   Personal_Pay  \n",
       "157   1950     María López   Este   Personal_Pay  "
      ]
     },
     "execution_count": 17,
     "metadata": {},
     "output_type": "execute_result"
    }
   ],
   "source": [
    "df.tail(10)"
   ]
  },
  {
   "cell_type": "markdown",
   "metadata": {},
   "source": [
    "df.min(): Devuelve el valor mínimo de cada columna."
   ]
  },
  {
   "cell_type": "code",
   "execution_count": 18,
   "metadata": {},
   "outputs": [
    {
     "data": {
      "text/plain": [
       "ID_Venta                     1\n",
       "Fecha               2024-01-10\n",
       "Producto            Aspiradora\n",
       "Categoria    Electrodomésticos\n",
       "Precio                     100\n",
       "Cantidad                     1\n",
       "Total                      100\n",
       "Cliente             Ana Torres\n",
       "Region                    Este\n",
       "Tipo_Pago             Efectivo\n",
       "dtype: object"
      ]
     },
     "execution_count": 18,
     "metadata": {},
     "output_type": "execute_result"
    }
   ],
   "source": [
    "df.min()"
   ]
  },
  {
   "cell_type": "markdown",
   "metadata": {},
   "source": [
    "df.max(): Devuelve el valor máximo de cada columna."
   ]
  },
  {
   "cell_type": "code",
   "execution_count": null,
   "metadata": {},
   "outputs": [
    {
     "data": {
      "text/plain": [
       "ID_Venta                158\n",
       "Fecha            2025-01-28\n",
       "Producto          Televisor\n",
       "Categoria       Electrónica\n",
       "Precio                  950\n",
       "Cantidad                  4\n",
       "Total                  3400\n",
       "Cliente      Sofía Martínez\n",
       "Region                  Sur\n",
       "Tipo_Pago     Transferencia\n",
       "dtype: object"
      ]
     },
     "execution_count": 19,
     "metadata": {},
     "output_type": "execute_result"
    }
   ],
   "source": [
    "df.max()"
   ]
  },
  {
   "cell_type": "markdown",
   "metadata": {},
   "source": [
    "Devuelve una lista con los nombres de las columnas del DataFrame."
   ]
  },
  {
   "cell_type": "code",
   "execution_count": 22,
   "metadata": {},
   "outputs": [
    {
     "data": {
      "text/plain": [
       "Index(['ID_Venta', 'Fecha', 'Producto', 'Categoria', 'Precio', 'Cantidad',\n",
       "       'Total', 'Cliente', 'Region', 'Tipo_Pago'],\n",
       "      dtype='object')"
      ]
     },
     "execution_count": 22,
     "metadata": {},
     "output_type": "execute_result"
    }
   ],
   "source": [
    "df.columns"
   ]
  },
  {
   "cell_type": "markdown",
   "metadata": {},
   "source": [
    "Devuelve una tupla con el número de filas y columnas del DataFrame en el formato (n_filas, n_columnas)."
   ]
  },
  {
   "cell_type": "code",
   "execution_count": 23,
   "metadata": {},
   "outputs": [
    {
     "data": {
      "text/plain": [
       "(158, 10)"
      ]
     },
     "execution_count": 23,
     "metadata": {},
     "output_type": "execute_result"
    }
   ],
   "source": [
    "df.shape"
   ]
  },
  {
   "cell_type": "markdown",
   "metadata": {},
   "source": [
    "df[df['Categoria'] == \"Electrodomésticos\"]: Filtra las filas donde la columna \"Categoria\" sea igual a \"Electrodomésticos\".\n",
    "El resultado se guarda en la variable cat_elect"
   ]
  },
  {
   "cell_type": "code",
   "execution_count": 10,
   "metadata": {},
   "outputs": [
    {
     "data": {
      "text/html": [
       "<div>\n",
       "<style scoped>\n",
       "    .dataframe tbody tr th:only-of-type {\n",
       "        vertical-align: middle;\n",
       "    }\n",
       "\n",
       "    .dataframe tbody tr th {\n",
       "        vertical-align: top;\n",
       "    }\n",
       "\n",
       "    .dataframe thead th {\n",
       "        text-align: right;\n",
       "    }\n",
       "</style>\n",
       "<table border=\"1\" class=\"dataframe\">\n",
       "  <thead>\n",
       "    <tr style=\"text-align: right;\">\n",
       "      <th></th>\n",
       "      <th>ID_Venta</th>\n",
       "      <th>Fecha</th>\n",
       "      <th>Producto</th>\n",
       "      <th>Categoria</th>\n",
       "      <th>Precio</th>\n",
       "      <th>Cantidad</th>\n",
       "      <th>Total</th>\n",
       "      <th>Cliente</th>\n",
       "      <th>Region</th>\n",
       "      <th>Tipo_Pago</th>\n",
       "    </tr>\n",
       "  </thead>\n",
       "  <tbody>\n",
       "    <tr>\n",
       "      <th>0</th>\n",
       "      <td>1</td>\n",
       "      <td>2024-01-10</td>\n",
       "      <td>Televisor</td>\n",
       "      <td>Electrodomésticos</td>\n",
       "      <td>400</td>\n",
       "      <td>2</td>\n",
       "      <td>800</td>\n",
       "      <td>Carlos Pérez</td>\n",
       "      <td>Norte</td>\n",
       "      <td>Tigo_Money</td>\n",
       "    </tr>\n",
       "    <tr>\n",
       "      <th>1</th>\n",
       "      <td>2</td>\n",
       "      <td>2024-02-15</td>\n",
       "      <td>Lavadora</td>\n",
       "      <td>Electrodomésticos</td>\n",
       "      <td>300</td>\n",
       "      <td>1</td>\n",
       "      <td>300</td>\n",
       "      <td>María López</td>\n",
       "      <td>Sur</td>\n",
       "      <td>Tigo_Money</td>\n",
       "    </tr>\n",
       "    <tr>\n",
       "      <th>3</th>\n",
       "      <td>4</td>\n",
       "      <td>2024-04-20</td>\n",
       "      <td>Aspiradora</td>\n",
       "      <td>Electrodomésticos</td>\n",
       "      <td>150</td>\n",
       "      <td>1</td>\n",
       "      <td>150</td>\n",
       "      <td>Ana Torres</td>\n",
       "      <td>Oeste</td>\n",
       "      <td>Tigo_Money</td>\n",
       "    </tr>\n",
       "    <tr>\n",
       "      <th>5</th>\n",
       "      <td>6</td>\n",
       "      <td>2024-06-30</td>\n",
       "      <td>Microondas</td>\n",
       "      <td>Electrodomésticos</td>\n",
       "      <td>120</td>\n",
       "      <td>2</td>\n",
       "      <td>240</td>\n",
       "      <td>Sofía Martínez</td>\n",
       "      <td>Sur</td>\n",
       "      <td>Tigo_Money</td>\n",
       "    </tr>\n",
       "    <tr>\n",
       "      <th>13</th>\n",
       "      <td>14</td>\n",
       "      <td>2024-09-06</td>\n",
       "      <td>Cámara</td>\n",
       "      <td>Electrodomésticos</td>\n",
       "      <td>350</td>\n",
       "      <td>3</td>\n",
       "      <td>1050</td>\n",
       "      <td>Juan Gómez</td>\n",
       "      <td>Oeste</td>\n",
       "      <td>Tigo_Money</td>\n",
       "    </tr>\n",
       "    <tr>\n",
       "      <th>...</th>\n",
       "      <td>...</td>\n",
       "      <td>...</td>\n",
       "      <td>...</td>\n",
       "      <td>...</td>\n",
       "      <td>...</td>\n",
       "      <td>...</td>\n",
       "      <td>...</td>\n",
       "      <td>...</td>\n",
       "      <td>...</td>\n",
       "      <td>...</td>\n",
       "    </tr>\n",
       "    <tr>\n",
       "      <th>149</th>\n",
       "      <td>150</td>\n",
       "      <td>2025-01-20</td>\n",
       "      <td>Aspiradora</td>\n",
       "      <td>Electrodomésticos</td>\n",
       "      <td>750</td>\n",
       "      <td>2</td>\n",
       "      <td>1500</td>\n",
       "      <td>Luis Fernández</td>\n",
       "      <td>Sur</td>\n",
       "      <td>Transferencia</td>\n",
       "    </tr>\n",
       "    <tr>\n",
       "      <th>150</th>\n",
       "      <td>151</td>\n",
       "      <td>2025-01-21</td>\n",
       "      <td>Lavadora</td>\n",
       "      <td>Electrodomésticos</td>\n",
       "      <td>100</td>\n",
       "      <td>1</td>\n",
       "      <td>100</td>\n",
       "      <td>Carlos Pérez</td>\n",
       "      <td>Sur</td>\n",
       "      <td>Tigo_Money</td>\n",
       "    </tr>\n",
       "    <tr>\n",
       "      <th>151</th>\n",
       "      <td>152</td>\n",
       "      <td>2025-01-22</td>\n",
       "      <td>Tablet</td>\n",
       "      <td>Electrodomésticos</td>\n",
       "      <td>600</td>\n",
       "      <td>1</td>\n",
       "      <td>600</td>\n",
       "      <td>Luis Fernández</td>\n",
       "      <td>Oeste</td>\n",
       "      <td>Efectivo</td>\n",
       "    </tr>\n",
       "    <tr>\n",
       "      <th>154</th>\n",
       "      <td>155</td>\n",
       "      <td>2025-01-25</td>\n",
       "      <td>Microondas</td>\n",
       "      <td>Electrodomésticos</td>\n",
       "      <td>300</td>\n",
       "      <td>4</td>\n",
       "      <td>1200</td>\n",
       "      <td>Sofía Martínez</td>\n",
       "      <td>Este</td>\n",
       "      <td>Tigo_Money</td>\n",
       "    </tr>\n",
       "    <tr>\n",
       "      <th>155</th>\n",
       "      <td>156</td>\n",
       "      <td>2025-01-26</td>\n",
       "      <td>Aspiradora</td>\n",
       "      <td>Electrodomésticos</td>\n",
       "      <td>250</td>\n",
       "      <td>1</td>\n",
       "      <td>250</td>\n",
       "      <td>Ana Torres</td>\n",
       "      <td>Oeste</td>\n",
       "      <td>Efectivo</td>\n",
       "    </tr>\n",
       "  </tbody>\n",
       "</table>\n",
       "<p>82 rows × 10 columns</p>\n",
       "</div>"
      ],
      "text/plain": [
       "     ID_Venta       Fecha    Producto          Categoria  Precio  Cantidad  \\\n",
       "0           1  2024-01-10   Televisor  Electrodomésticos     400         2   \n",
       "1           2  2024-02-15    Lavadora  Electrodomésticos     300         1   \n",
       "3           4  2024-04-20  Aspiradora  Electrodomésticos     150         1   \n",
       "5           6  2024-06-30  Microondas  Electrodomésticos     120         2   \n",
       "13         14  2024-09-06      Cámara  Electrodomésticos     350         3   \n",
       "..        ...         ...         ...                ...     ...       ...   \n",
       "149       150  2025-01-20  Aspiradora  Electrodomésticos     750         2   \n",
       "150       151  2025-01-21    Lavadora  Electrodomésticos     100         1   \n",
       "151       152  2025-01-22      Tablet  Electrodomésticos     600         1   \n",
       "154       155  2025-01-25  Microondas  Electrodomésticos     300         4   \n",
       "155       156  2025-01-26  Aspiradora  Electrodomésticos     250         1   \n",
       "\n",
       "     Total         Cliente Region      Tipo_Pago  \n",
       "0      800    Carlos Pérez  Norte     Tigo_Money  \n",
       "1      300     María López    Sur     Tigo_Money  \n",
       "3      150      Ana Torres  Oeste     Tigo_Money  \n",
       "5      240  Sofía Martínez    Sur     Tigo_Money  \n",
       "13    1050      Juan Gómez  Oeste     Tigo_Money  \n",
       "..     ...             ...    ...            ...  \n",
       "149   1500  Luis Fernández    Sur  Transferencia  \n",
       "150    100    Carlos Pérez    Sur     Tigo_Money  \n",
       "151    600  Luis Fernández  Oeste       Efectivo  \n",
       "154   1200  Sofía Martínez   Este     Tigo_Money  \n",
       "155    250      Ana Torres  Oeste       Efectivo  \n",
       "\n",
       "[82 rows x 10 columns]"
      ]
     },
     "execution_count": 10,
     "metadata": {},
     "output_type": "execute_result"
    }
   ],
   "source": [
    "cat_elect = df[df['Categoria']==\"Electrodomésticos\"]\n",
    "cat_elect"
   ]
  },
  {
   "cell_type": "markdown",
   "metadata": {},
   "source": [
    "df.groupby('Region')['Total'].sum():\n",
    "\n",
    "Agrupa el DataFrame por la columna \"Region\".\n",
    "\n",
    "Calcula la suma de la columna \"Total\" para cada grupo.\n",
    "\n",
    "El resultado se almacena en la variable ventas_region"
   ]
  },
  {
   "cell_type": "code",
   "execution_count": 6,
   "metadata": {},
   "outputs": [
    {
     "data": {
      "text/plain": [
       "Region\n",
       "Este     35450\n",
       "Norte    61650\n",
       "Oeste    50300\n",
       "Sur      39890\n",
       "Name: Total, dtype: int64"
      ]
     },
     "execution_count": 6,
     "metadata": {},
     "output_type": "execute_result"
    }
   ],
   "source": [
    "ventas_region = df.groupby('Region')['Total'].sum()\n",
    "ventas_region"
   ]
  },
  {
   "cell_type": "markdown",
   "metadata": {},
   "source": [
    "df.sort_values(by='Total', ascending=False):\n",
    "\n",
    "Ordena el DataFrame en función de la columna \"Total\" en orden descendente.\n",
    "\n",
    "El resultado se almacena en la variable ordenado."
   ]
  },
  {
   "cell_type": "code",
   "execution_count": 8,
   "metadata": {},
   "outputs": [
    {
     "data": {
      "text/html": [
       "<div>\n",
       "<style scoped>\n",
       "    .dataframe tbody tr th:only-of-type {\n",
       "        vertical-align: middle;\n",
       "    }\n",
       "\n",
       "    .dataframe tbody tr th {\n",
       "        vertical-align: top;\n",
       "    }\n",
       "\n",
       "    .dataframe thead th {\n",
       "        text-align: right;\n",
       "    }\n",
       "</style>\n",
       "<table border=\"1\" class=\"dataframe\">\n",
       "  <thead>\n",
       "    <tr style=\"text-align: right;\">\n",
       "      <th></th>\n",
       "      <th>ID_Venta</th>\n",
       "      <th>Fecha</th>\n",
       "      <th>Producto</th>\n",
       "      <th>Categoria</th>\n",
       "      <th>Precio</th>\n",
       "      <th>Cantidad</th>\n",
       "      <th>Total</th>\n",
       "      <th>Cliente</th>\n",
       "      <th>Region</th>\n",
       "      <th>Tipo_Pago</th>\n",
       "    </tr>\n",
       "  </thead>\n",
       "  <tbody>\n",
       "    <tr>\n",
       "      <th>38</th>\n",
       "      <td>39</td>\n",
       "      <td>2024-10-01</td>\n",
       "      <td>Celular</td>\n",
       "      <td>Electrónica</td>\n",
       "      <td>850</td>\n",
       "      <td>4</td>\n",
       "      <td>3400</td>\n",
       "      <td>Juan Gómez</td>\n",
       "      <td>Oeste</td>\n",
       "      <td>Tigo_Money</td>\n",
       "    </tr>\n",
       "    <tr>\n",
       "      <th>95</th>\n",
       "      <td>96</td>\n",
       "      <td>2024-11-27</td>\n",
       "      <td>Tablet</td>\n",
       "      <td>Electrónica</td>\n",
       "      <td>850</td>\n",
       "      <td>4</td>\n",
       "      <td>3400</td>\n",
       "      <td>Pedro Castillo</td>\n",
       "      <td>Sur</td>\n",
       "      <td>Pago_POS</td>\n",
       "    </tr>\n",
       "    <tr>\n",
       "      <th>120</th>\n",
       "      <td>121</td>\n",
       "      <td>2024-12-22</td>\n",
       "      <td>Cámara</td>\n",
       "      <td>Electrónica</td>\n",
       "      <td>800</td>\n",
       "      <td>4</td>\n",
       "      <td>3200</td>\n",
       "      <td>Pedro Castillo</td>\n",
       "      <td>Oeste</td>\n",
       "      <td>Efectivo</td>\n",
       "    </tr>\n",
       "    <tr>\n",
       "      <th>20</th>\n",
       "      <td>21</td>\n",
       "      <td>2024-09-13</td>\n",
       "      <td>Televisor</td>\n",
       "      <td>Electrónica</td>\n",
       "      <td>800</td>\n",
       "      <td>4</td>\n",
       "      <td>3200</td>\n",
       "      <td>Luis Fernández</td>\n",
       "      <td>Norte</td>\n",
       "      <td>Pago_POS</td>\n",
       "    </tr>\n",
       "    <tr>\n",
       "      <th>115</th>\n",
       "      <td>116</td>\n",
       "      <td>2024-12-17</td>\n",
       "      <td>Tablet</td>\n",
       "      <td>Electrodomésticos</td>\n",
       "      <td>750</td>\n",
       "      <td>4</td>\n",
       "      <td>3000</td>\n",
       "      <td>Sofía Martínez</td>\n",
       "      <td>Este</td>\n",
       "      <td>Transferencia</td>\n",
       "    </tr>\n",
       "    <tr>\n",
       "      <th>...</th>\n",
       "      <td>...</td>\n",
       "      <td>...</td>\n",
       "      <td>...</td>\n",
       "      <td>...</td>\n",
       "      <td>...</td>\n",
       "      <td>...</td>\n",
       "      <td>...</td>\n",
       "      <td>...</td>\n",
       "      <td>...</td>\n",
       "      <td>...</td>\n",
       "    </tr>\n",
       "    <tr>\n",
       "      <th>3</th>\n",
       "      <td>4</td>\n",
       "      <td>2024-04-20</td>\n",
       "      <td>Aspiradora</td>\n",
       "      <td>Electrodomésticos</td>\n",
       "      <td>150</td>\n",
       "      <td>1</td>\n",
       "      <td>150</td>\n",
       "      <td>Ana Torres</td>\n",
       "      <td>Oeste</td>\n",
       "      <td>Tigo_Money</td>\n",
       "    </tr>\n",
       "    <tr>\n",
       "      <th>156</th>\n",
       "      <td>157</td>\n",
       "      <td>2025-01-27</td>\n",
       "      <td>Aspiradora</td>\n",
       "      <td>Electrónica</td>\n",
       "      <td>150</td>\n",
       "      <td>1</td>\n",
       "      <td>150</td>\n",
       "      <td>Ana Torres</td>\n",
       "      <td>Este</td>\n",
       "      <td>Personal_Pay</td>\n",
       "    </tr>\n",
       "    <tr>\n",
       "      <th>139</th>\n",
       "      <td>140</td>\n",
       "      <td>2025-01-10</td>\n",
       "      <td>Celular</td>\n",
       "      <td>Electrodomésticos</td>\n",
       "      <td>150</td>\n",
       "      <td>1</td>\n",
       "      <td>150</td>\n",
       "      <td>Lucía García</td>\n",
       "      <td>Este</td>\n",
       "      <td>Pago_POS</td>\n",
       "    </tr>\n",
       "    <tr>\n",
       "      <th>150</th>\n",
       "      <td>151</td>\n",
       "      <td>2025-01-21</td>\n",
       "      <td>Lavadora</td>\n",
       "      <td>Electrodomésticos</td>\n",
       "      <td>100</td>\n",
       "      <td>1</td>\n",
       "      <td>100</td>\n",
       "      <td>Carlos Pérez</td>\n",
       "      <td>Sur</td>\n",
       "      <td>Tigo_Money</td>\n",
       "    </tr>\n",
       "    <tr>\n",
       "      <th>77</th>\n",
       "      <td>78</td>\n",
       "      <td>2024-11-09</td>\n",
       "      <td>Lavadora</td>\n",
       "      <td>Electrónica</td>\n",
       "      <td>100</td>\n",
       "      <td>1</td>\n",
       "      <td>100</td>\n",
       "      <td>Sofía Martínez</td>\n",
       "      <td>Este</td>\n",
       "      <td>Transferencia</td>\n",
       "    </tr>\n",
       "  </tbody>\n",
       "</table>\n",
       "<p>158 rows × 10 columns</p>\n",
       "</div>"
      ],
      "text/plain": [
       "     ID_Venta       Fecha    Producto          Categoria  Precio  Cantidad  \\\n",
       "38         39  2024-10-01     Celular        Electrónica     850         4   \n",
       "95         96  2024-11-27      Tablet        Electrónica     850         4   \n",
       "120       121  2024-12-22      Cámara        Electrónica     800         4   \n",
       "20         21  2024-09-13   Televisor        Electrónica     800         4   \n",
       "115       116  2024-12-17      Tablet  Electrodomésticos     750         4   \n",
       "..        ...         ...         ...                ...     ...       ...   \n",
       "3           4  2024-04-20  Aspiradora  Electrodomésticos     150         1   \n",
       "156       157  2025-01-27  Aspiradora        Electrónica     150         1   \n",
       "139       140  2025-01-10     Celular  Electrodomésticos     150         1   \n",
       "150       151  2025-01-21    Lavadora  Electrodomésticos     100         1   \n",
       "77         78  2024-11-09    Lavadora        Electrónica     100         1   \n",
       "\n",
       "     Total         Cliente Region      Tipo_Pago  \n",
       "38    3400      Juan Gómez  Oeste     Tigo_Money  \n",
       "95    3400  Pedro Castillo    Sur       Pago_POS  \n",
       "120   3200  Pedro Castillo  Oeste       Efectivo  \n",
       "20    3200  Luis Fernández  Norte       Pago_POS  \n",
       "115   3000  Sofía Martínez   Este  Transferencia  \n",
       "..     ...             ...    ...            ...  \n",
       "3      150      Ana Torres  Oeste     Tigo_Money  \n",
       "156    150      Ana Torres   Este   Personal_Pay  \n",
       "139    150    Lucía García   Este       Pago_POS  \n",
       "150    100    Carlos Pérez    Sur     Tigo_Money  \n",
       "77     100  Sofía Martínez   Este  Transferencia  \n",
       "\n",
       "[158 rows x 10 columns]"
      ]
     },
     "execution_count": 8,
     "metadata": {},
     "output_type": "execute_result"
    }
   ],
   "source": [
    "ordenado = df.sort_values(by='Total', ascending=False)\n",
    "ordenado"
   ]
  },
  {
   "cell_type": "markdown",
   "metadata": {},
   "source": [
    "df.isnull(): Devuelve un DataFrame booleano indicando dónde hay valores nulos.\n",
    "\n",
    ".sum(): Suma la cantidad de valores nulos en cada columna."
   ]
  },
  {
   "cell_type": "code",
   "execution_count": 11,
   "metadata": {},
   "outputs": [
    {
     "name": "stdout",
     "output_type": "stream",
     "text": [
      "ID_Venta     0\n",
      "Fecha        0\n",
      "Producto     0\n",
      "Categoria    0\n",
      "Precio       0\n",
      "Cantidad     0\n",
      "Total        0\n",
      "Cliente      0\n",
      "Region       0\n",
      "Tipo_Pago    0\n",
      "dtype: int64\n"
     ]
    }
   ],
   "source": [
    "print(df.isnull().sum())"
   ]
  },
  {
   "cell_type": "markdown",
   "metadata": {},
   "source": [
    "df.Tipo_Pago.value_counts():\n",
    "\n",
    "Cuenta la frecuencia de cada valor único en la columna \"Tipo_Pago\".\n",
    "\n",
    "El resultado se almacena en la variable tipo_pago."
   ]
  },
  {
   "cell_type": "code",
   "execution_count": 12,
   "metadata": {},
   "outputs": [
    {
     "data": {
      "text/plain": [
       "Tipo_Pago\n",
       "Tigo_Money       47\n",
       "Transferencia    33\n",
       "Efectivo         28\n",
       "Pago_POS         27\n",
       "Personal_Pay     23\n",
       "Name: count, dtype: int64"
      ]
     },
     "execution_count": 12,
     "metadata": {},
     "output_type": "execute_result"
    }
   ],
   "source": [
    "tipo_pago = df.Tipo_Pago.value_counts()\n",
    "tipo_pago\n"
   ]
  },
  {
   "cell_type": "markdown",
   "metadata": {},
   "source": [
    "df[['Producto', 'Categoria']]: Selecciona únicamente las columnas \"Producto\" y \"Categoria\" del DataFrame"
   ]
  },
  {
   "cell_type": "code",
   "execution_count": 13,
   "metadata": {},
   "outputs": [
    {
     "data": {
      "text/html": [
       "<div>\n",
       "<style scoped>\n",
       "    .dataframe tbody tr th:only-of-type {\n",
       "        vertical-align: middle;\n",
       "    }\n",
       "\n",
       "    .dataframe tbody tr th {\n",
       "        vertical-align: top;\n",
       "    }\n",
       "\n",
       "    .dataframe thead th {\n",
       "        text-align: right;\n",
       "    }\n",
       "</style>\n",
       "<table border=\"1\" class=\"dataframe\">\n",
       "  <thead>\n",
       "    <tr style=\"text-align: right;\">\n",
       "      <th></th>\n",
       "      <th>Producto</th>\n",
       "      <th>Categoria</th>\n",
       "    </tr>\n",
       "  </thead>\n",
       "  <tbody>\n",
       "    <tr>\n",
       "      <th>0</th>\n",
       "      <td>Televisor</td>\n",
       "      <td>Electrodomésticos</td>\n",
       "    </tr>\n",
       "    <tr>\n",
       "      <th>1</th>\n",
       "      <td>Lavadora</td>\n",
       "      <td>Electrodomésticos</td>\n",
       "    </tr>\n",
       "    <tr>\n",
       "      <th>2</th>\n",
       "      <td>Celular</td>\n",
       "      <td>Electrónica</td>\n",
       "    </tr>\n",
       "    <tr>\n",
       "      <th>3</th>\n",
       "      <td>Aspiradora</td>\n",
       "      <td>Electrodomésticos</td>\n",
       "    </tr>\n",
       "    <tr>\n",
       "      <th>4</th>\n",
       "      <td>Laptop</td>\n",
       "      <td>Electrónica</td>\n",
       "    </tr>\n",
       "    <tr>\n",
       "      <th>...</th>\n",
       "      <td>...</td>\n",
       "      <td>...</td>\n",
       "    </tr>\n",
       "    <tr>\n",
       "      <th>153</th>\n",
       "      <td>Aspiradora</td>\n",
       "      <td>Electrónica</td>\n",
       "    </tr>\n",
       "    <tr>\n",
       "      <th>154</th>\n",
       "      <td>Microondas</td>\n",
       "      <td>Electrodomésticos</td>\n",
       "    </tr>\n",
       "    <tr>\n",
       "      <th>155</th>\n",
       "      <td>Aspiradora</td>\n",
       "      <td>Electrodomésticos</td>\n",
       "    </tr>\n",
       "    <tr>\n",
       "      <th>156</th>\n",
       "      <td>Aspiradora</td>\n",
       "      <td>Electrónica</td>\n",
       "    </tr>\n",
       "    <tr>\n",
       "      <th>157</th>\n",
       "      <td>Microondas</td>\n",
       "      <td>Electrónica</td>\n",
       "    </tr>\n",
       "  </tbody>\n",
       "</table>\n",
       "<p>158 rows × 2 columns</p>\n",
       "</div>"
      ],
      "text/plain": [
       "       Producto          Categoria\n",
       "0     Televisor  Electrodomésticos\n",
       "1      Lavadora  Electrodomésticos\n",
       "2       Celular        Electrónica\n",
       "3    Aspiradora  Electrodomésticos\n",
       "4        Laptop        Electrónica\n",
       "..          ...                ...\n",
       "153  Aspiradora        Electrónica\n",
       "154  Microondas  Electrodomésticos\n",
       "155  Aspiradora  Electrodomésticos\n",
       "156  Aspiradora        Electrónica\n",
       "157  Microondas        Electrónica\n",
       "\n",
       "[158 rows x 2 columns]"
      ]
     },
     "execution_count": 13,
     "metadata": {},
     "output_type": "execute_result"
    }
   ],
   "source": [
    "columnas = df[['Producto', 'Categoria']]\n",
    "columnas"
   ]
  },
  {
   "cell_type": "code",
   "execution_count": 14,
   "metadata": {},
   "outputs": [
    {
     "data": {
      "text/html": [
       "<div>\n",
       "<style scoped>\n",
       "    .dataframe tbody tr th:only-of-type {\n",
       "        vertical-align: middle;\n",
       "    }\n",
       "\n",
       "    .dataframe tbody tr th {\n",
       "        vertical-align: top;\n",
       "    }\n",
       "\n",
       "    .dataframe thead th {\n",
       "        text-align: right;\n",
       "    }\n",
       "</style>\n",
       "<table border=\"1\" class=\"dataframe\">\n",
       "  <thead>\n",
       "    <tr style=\"text-align: right;\">\n",
       "      <th></th>\n",
       "      <th>ID_Venta</th>\n",
       "      <th>Fecha</th>\n",
       "      <th>Producto</th>\n",
       "      <th>Categoria</th>\n",
       "      <th>Precio</th>\n",
       "      <th>Cantidad</th>\n",
       "      <th>Total</th>\n",
       "      <th>Cliente</th>\n",
       "      <th>Region</th>\n",
       "      <th>Tipo_Pago</th>\n",
       "    </tr>\n",
       "  </thead>\n",
       "  <tbody>\n",
       "    <tr>\n",
       "      <th>0</th>\n",
       "      <td>1</td>\n",
       "      <td>2024-01-10</td>\n",
       "      <td>Televisor</td>\n",
       "      <td>Electrodomésticos</td>\n",
       "      <td>400</td>\n",
       "      <td>2</td>\n",
       "      <td>800</td>\n",
       "      <td>Carlos Pérez</td>\n",
       "      <td>Norte</td>\n",
       "      <td>Tigo_Money</td>\n",
       "    </tr>\n",
       "    <tr>\n",
       "      <th>1</th>\n",
       "      <td>2</td>\n",
       "      <td>2024-02-15</td>\n",
       "      <td>Lavadora</td>\n",
       "      <td>Electrodomésticos</td>\n",
       "      <td>300</td>\n",
       "      <td>1</td>\n",
       "      <td>300</td>\n",
       "      <td>María López</td>\n",
       "      <td>Sur</td>\n",
       "      <td>Tigo_Money</td>\n",
       "    </tr>\n",
       "    <tr>\n",
       "      <th>2</th>\n",
       "      <td>3</td>\n",
       "      <td>2024-03-05</td>\n",
       "      <td>Celular</td>\n",
       "      <td>Electrónica</td>\n",
       "      <td>200</td>\n",
       "      <td>3</td>\n",
       "      <td>600</td>\n",
       "      <td>Juan Gómez</td>\n",
       "      <td>Este</td>\n",
       "      <td>Tigo_Money</td>\n",
       "    </tr>\n",
       "    <tr>\n",
       "      <th>3</th>\n",
       "      <td>4</td>\n",
       "      <td>2024-04-20</td>\n",
       "      <td>Aspiradora</td>\n",
       "      <td>Electrodomésticos</td>\n",
       "      <td>150</td>\n",
       "      <td>1</td>\n",
       "      <td>150</td>\n",
       "      <td>Ana Torres</td>\n",
       "      <td>Oeste</td>\n",
       "      <td>Tigo_Money</td>\n",
       "    </tr>\n",
       "    <tr>\n",
       "      <th>4</th>\n",
       "      <td>5</td>\n",
       "      <td>2024-05-12</td>\n",
       "      <td>Laptop</td>\n",
       "      <td>Electrónica</td>\n",
       "      <td>700</td>\n",
       "      <td>1</td>\n",
       "      <td>700</td>\n",
       "      <td>Luis Fernández</td>\n",
       "      <td>Norte</td>\n",
       "      <td>Tigo_Money</td>\n",
       "    </tr>\n",
       "    <tr>\n",
       "      <th>...</th>\n",
       "      <td>...</td>\n",
       "      <td>...</td>\n",
       "      <td>...</td>\n",
       "      <td>...</td>\n",
       "      <td>...</td>\n",
       "      <td>...</td>\n",
       "      <td>...</td>\n",
       "      <td>...</td>\n",
       "      <td>...</td>\n",
       "      <td>...</td>\n",
       "    </tr>\n",
       "    <tr>\n",
       "      <th>153</th>\n",
       "      <td>154</td>\n",
       "      <td>2025-01-24</td>\n",
       "      <td>Aspiradora</td>\n",
       "      <td>Electrónica</td>\n",
       "      <td>650</td>\n",
       "      <td>2</td>\n",
       "      <td>1300</td>\n",
       "      <td>Luis Fernández</td>\n",
       "      <td>Oeste</td>\n",
       "      <td>Efectivo</td>\n",
       "    </tr>\n",
       "    <tr>\n",
       "      <th>154</th>\n",
       "      <td>155</td>\n",
       "      <td>2025-01-25</td>\n",
       "      <td>Microondas</td>\n",
       "      <td>Electrodomésticos</td>\n",
       "      <td>300</td>\n",
       "      <td>4</td>\n",
       "      <td>1200</td>\n",
       "      <td>Sofía Martínez</td>\n",
       "      <td>Este</td>\n",
       "      <td>Tigo_Money</td>\n",
       "    </tr>\n",
       "    <tr>\n",
       "      <th>155</th>\n",
       "      <td>156</td>\n",
       "      <td>2025-01-26</td>\n",
       "      <td>Aspiradora</td>\n",
       "      <td>Electrodomésticos</td>\n",
       "      <td>250</td>\n",
       "      <td>1</td>\n",
       "      <td>250</td>\n",
       "      <td>Ana Torres</td>\n",
       "      <td>Oeste</td>\n",
       "      <td>Efectivo</td>\n",
       "    </tr>\n",
       "    <tr>\n",
       "      <th>156</th>\n",
       "      <td>157</td>\n",
       "      <td>2025-01-27</td>\n",
       "      <td>Aspiradora</td>\n",
       "      <td>Electrónica</td>\n",
       "      <td>150</td>\n",
       "      <td>1</td>\n",
       "      <td>150</td>\n",
       "      <td>Ana Torres</td>\n",
       "      <td>Este</td>\n",
       "      <td>Personal_Pay</td>\n",
       "    </tr>\n",
       "    <tr>\n",
       "      <th>157</th>\n",
       "      <td>158</td>\n",
       "      <td>2025-01-28</td>\n",
       "      <td>Microondas</td>\n",
       "      <td>Electrónica</td>\n",
       "      <td>650</td>\n",
       "      <td>3</td>\n",
       "      <td>1950</td>\n",
       "      <td>María López</td>\n",
       "      <td>Este</td>\n",
       "      <td>Personal_Pay</td>\n",
       "    </tr>\n",
       "  </tbody>\n",
       "</table>\n",
       "<p>158 rows × 10 columns</p>\n",
       "</div>"
      ],
      "text/plain": [
       "     ID_Venta       Fecha    Producto          Categoria  Precio  Cantidad  \\\n",
       "0           1  2024-01-10   Televisor  Electrodomésticos     400         2   \n",
       "1           2  2024-02-15    Lavadora  Electrodomésticos     300         1   \n",
       "2           3  2024-03-05     Celular        Electrónica     200         3   \n",
       "3           4  2024-04-20  Aspiradora  Electrodomésticos     150         1   \n",
       "4           5  2024-05-12      Laptop        Electrónica     700         1   \n",
       "..        ...         ...         ...                ...     ...       ...   \n",
       "153       154  2025-01-24  Aspiradora        Electrónica     650         2   \n",
       "154       155  2025-01-25  Microondas  Electrodomésticos     300         4   \n",
       "155       156  2025-01-26  Aspiradora  Electrodomésticos     250         1   \n",
       "156       157  2025-01-27  Aspiradora        Electrónica     150         1   \n",
       "157       158  2025-01-28  Microondas        Electrónica     650         3   \n",
       "\n",
       "     Total         Cliente Region     Tipo_Pago  \n",
       "0      800    Carlos Pérez  Norte    Tigo_Money  \n",
       "1      300     María López    Sur    Tigo_Money  \n",
       "2      600      Juan Gómez   Este    Tigo_Money  \n",
       "3      150      Ana Torres  Oeste    Tigo_Money  \n",
       "4      700  Luis Fernández  Norte    Tigo_Money  \n",
       "..     ...             ...    ...           ...  \n",
       "153   1300  Luis Fernández  Oeste      Efectivo  \n",
       "154   1200  Sofía Martínez   Este    Tigo_Money  \n",
       "155    250      Ana Torres  Oeste      Efectivo  \n",
       "156    150      Ana Torres   Este  Personal_Pay  \n",
       "157   1950     María López   Este  Personal_Pay  \n",
       "\n",
       "[158 rows x 10 columns]"
      ]
     },
     "execution_count": 14,
     "metadata": {},
     "output_type": "execute_result"
    }
   ],
   "source": [
    "df"
   ]
  },
  {
   "cell_type": "markdown",
   "metadata": {},
   "source": [
    "Devuelve todas las filas donde el valor de la columna \"Precio\" sea menor o igual a 600."
   ]
  },
  {
   "cell_type": "code",
   "execution_count": 15,
   "metadata": {},
   "outputs": [
    {
     "data": {
      "text/html": [
       "<div>\n",
       "<style scoped>\n",
       "    .dataframe tbody tr th:only-of-type {\n",
       "        vertical-align: middle;\n",
       "    }\n",
       "\n",
       "    .dataframe tbody tr th {\n",
       "        vertical-align: top;\n",
       "    }\n",
       "\n",
       "    .dataframe thead th {\n",
       "        text-align: right;\n",
       "    }\n",
       "</style>\n",
       "<table border=\"1\" class=\"dataframe\">\n",
       "  <thead>\n",
       "    <tr style=\"text-align: right;\">\n",
       "      <th></th>\n",
       "      <th>ID_Venta</th>\n",
       "      <th>Fecha</th>\n",
       "      <th>Producto</th>\n",
       "      <th>Categoria</th>\n",
       "      <th>Precio</th>\n",
       "      <th>Cantidad</th>\n",
       "      <th>Total</th>\n",
       "      <th>Cliente</th>\n",
       "      <th>Region</th>\n",
       "      <th>Tipo_Pago</th>\n",
       "    </tr>\n",
       "  </thead>\n",
       "  <tbody>\n",
       "    <tr>\n",
       "      <th>0</th>\n",
       "      <td>1</td>\n",
       "      <td>2024-01-10</td>\n",
       "      <td>Televisor</td>\n",
       "      <td>Electrodomésticos</td>\n",
       "      <td>400</td>\n",
       "      <td>2</td>\n",
       "      <td>800</td>\n",
       "      <td>Carlos Pérez</td>\n",
       "      <td>Norte</td>\n",
       "      <td>Tigo_Money</td>\n",
       "    </tr>\n",
       "    <tr>\n",
       "      <th>1</th>\n",
       "      <td>2</td>\n",
       "      <td>2024-02-15</td>\n",
       "      <td>Lavadora</td>\n",
       "      <td>Electrodomésticos</td>\n",
       "      <td>300</td>\n",
       "      <td>1</td>\n",
       "      <td>300</td>\n",
       "      <td>María López</td>\n",
       "      <td>Sur</td>\n",
       "      <td>Tigo_Money</td>\n",
       "    </tr>\n",
       "    <tr>\n",
       "      <th>2</th>\n",
       "      <td>3</td>\n",
       "      <td>2024-03-05</td>\n",
       "      <td>Celular</td>\n",
       "      <td>Electrónica</td>\n",
       "      <td>200</td>\n",
       "      <td>3</td>\n",
       "      <td>600</td>\n",
       "      <td>Juan Gómez</td>\n",
       "      <td>Este</td>\n",
       "      <td>Tigo_Money</td>\n",
       "    </tr>\n",
       "    <tr>\n",
       "      <th>3</th>\n",
       "      <td>4</td>\n",
       "      <td>2024-04-20</td>\n",
       "      <td>Aspiradora</td>\n",
       "      <td>Electrodomésticos</td>\n",
       "      <td>150</td>\n",
       "      <td>1</td>\n",
       "      <td>150</td>\n",
       "      <td>Ana Torres</td>\n",
       "      <td>Oeste</td>\n",
       "      <td>Tigo_Money</td>\n",
       "    </tr>\n",
       "    <tr>\n",
       "      <th>5</th>\n",
       "      <td>6</td>\n",
       "      <td>2024-06-30</td>\n",
       "      <td>Microondas</td>\n",
       "      <td>Electrodomésticos</td>\n",
       "      <td>120</td>\n",
       "      <td>2</td>\n",
       "      <td>240</td>\n",
       "      <td>Sofía Martínez</td>\n",
       "      <td>Sur</td>\n",
       "      <td>Tigo_Money</td>\n",
       "    </tr>\n",
       "    <tr>\n",
       "      <th>...</th>\n",
       "      <td>...</td>\n",
       "      <td>...</td>\n",
       "      <td>...</td>\n",
       "      <td>...</td>\n",
       "      <td>...</td>\n",
       "      <td>...</td>\n",
       "      <td>...</td>\n",
       "      <td>...</td>\n",
       "      <td>...</td>\n",
       "      <td>...</td>\n",
       "    </tr>\n",
       "    <tr>\n",
       "      <th>150</th>\n",
       "      <td>151</td>\n",
       "      <td>2025-01-21</td>\n",
       "      <td>Lavadora</td>\n",
       "      <td>Electrodomésticos</td>\n",
       "      <td>100</td>\n",
       "      <td>1</td>\n",
       "      <td>100</td>\n",
       "      <td>Carlos Pérez</td>\n",
       "      <td>Sur</td>\n",
       "      <td>Tigo_Money</td>\n",
       "    </tr>\n",
       "    <tr>\n",
       "      <th>151</th>\n",
       "      <td>152</td>\n",
       "      <td>2025-01-22</td>\n",
       "      <td>Tablet</td>\n",
       "      <td>Electrodomésticos</td>\n",
       "      <td>600</td>\n",
       "      <td>1</td>\n",
       "      <td>600</td>\n",
       "      <td>Luis Fernández</td>\n",
       "      <td>Oeste</td>\n",
       "      <td>Efectivo</td>\n",
       "    </tr>\n",
       "    <tr>\n",
       "      <th>154</th>\n",
       "      <td>155</td>\n",
       "      <td>2025-01-25</td>\n",
       "      <td>Microondas</td>\n",
       "      <td>Electrodomésticos</td>\n",
       "      <td>300</td>\n",
       "      <td>4</td>\n",
       "      <td>1200</td>\n",
       "      <td>Sofía Martínez</td>\n",
       "      <td>Este</td>\n",
       "      <td>Tigo_Money</td>\n",
       "    </tr>\n",
       "    <tr>\n",
       "      <th>155</th>\n",
       "      <td>156</td>\n",
       "      <td>2025-01-26</td>\n",
       "      <td>Aspiradora</td>\n",
       "      <td>Electrodomésticos</td>\n",
       "      <td>250</td>\n",
       "      <td>1</td>\n",
       "      <td>250</td>\n",
       "      <td>Ana Torres</td>\n",
       "      <td>Oeste</td>\n",
       "      <td>Efectivo</td>\n",
       "    </tr>\n",
       "    <tr>\n",
       "      <th>156</th>\n",
       "      <td>157</td>\n",
       "      <td>2025-01-27</td>\n",
       "      <td>Aspiradora</td>\n",
       "      <td>Electrónica</td>\n",
       "      <td>150</td>\n",
       "      <td>1</td>\n",
       "      <td>150</td>\n",
       "      <td>Ana Torres</td>\n",
       "      <td>Este</td>\n",
       "      <td>Personal_Pay</td>\n",
       "    </tr>\n",
       "  </tbody>\n",
       "</table>\n",
       "<p>96 rows × 10 columns</p>\n",
       "</div>"
      ],
      "text/plain": [
       "     ID_Venta       Fecha    Producto          Categoria  Precio  Cantidad  \\\n",
       "0           1  2024-01-10   Televisor  Electrodomésticos     400         2   \n",
       "1           2  2024-02-15    Lavadora  Electrodomésticos     300         1   \n",
       "2           3  2024-03-05     Celular        Electrónica     200         3   \n",
       "3           4  2024-04-20  Aspiradora  Electrodomésticos     150         1   \n",
       "5           6  2024-06-30  Microondas  Electrodomésticos     120         2   \n",
       "..        ...         ...         ...                ...     ...       ...   \n",
       "150       151  2025-01-21    Lavadora  Electrodomésticos     100         1   \n",
       "151       152  2025-01-22      Tablet  Electrodomésticos     600         1   \n",
       "154       155  2025-01-25  Microondas  Electrodomésticos     300         4   \n",
       "155       156  2025-01-26  Aspiradora  Electrodomésticos     250         1   \n",
       "156       157  2025-01-27  Aspiradora        Electrónica     150         1   \n",
       "\n",
       "     Total         Cliente Region     Tipo_Pago  \n",
       "0      800    Carlos Pérez  Norte    Tigo_Money  \n",
       "1      300     María López    Sur    Tigo_Money  \n",
       "2      600      Juan Gómez   Este    Tigo_Money  \n",
       "3      150      Ana Torres  Oeste    Tigo_Money  \n",
       "5      240  Sofía Martínez    Sur    Tigo_Money  \n",
       "..     ...             ...    ...           ...  \n",
       "150    100    Carlos Pérez    Sur    Tigo_Money  \n",
       "151    600  Luis Fernández  Oeste      Efectivo  \n",
       "154   1200  Sofía Martínez   Este    Tigo_Money  \n",
       "155    250      Ana Torres  Oeste      Efectivo  \n",
       "156    150      Ana Torres   Este  Personal_Pay  \n",
       "\n",
       "[96 rows x 10 columns]"
      ]
     },
     "execution_count": 15,
     "metadata": {},
     "output_type": "execute_result"
    }
   ],
   "source": [
    "df[df[\"Precio\"]<=600]\n",
    "\n"
   ]
  },
  {
   "cell_type": "markdown",
   "metadata": {},
   "source": [
    "df.sample(10): Selecciona 10 filas aleatorias del DataFrame."
   ]
  },
  {
   "cell_type": "code",
   "execution_count": 49,
   "metadata": {},
   "outputs": [
    {
     "data": {
      "text/html": [
       "<div>\n",
       "<style scoped>\n",
       "    .dataframe tbody tr th:only-of-type {\n",
       "        vertical-align: middle;\n",
       "    }\n",
       "\n",
       "    .dataframe tbody tr th {\n",
       "        vertical-align: top;\n",
       "    }\n",
       "\n",
       "    .dataframe thead th {\n",
       "        text-align: right;\n",
       "    }\n",
       "</style>\n",
       "<table border=\"1\" class=\"dataframe\">\n",
       "  <thead>\n",
       "    <tr style=\"text-align: right;\">\n",
       "      <th></th>\n",
       "      <th>ID_Venta</th>\n",
       "      <th>Fecha</th>\n",
       "      <th>Producto</th>\n",
       "      <th>Categoria</th>\n",
       "      <th>Precio</th>\n",
       "      <th>Cantidad</th>\n",
       "      <th>Total</th>\n",
       "      <th>Cliente</th>\n",
       "      <th>Region</th>\n",
       "      <th>Tipo_Pago</th>\n",
       "    </tr>\n",
       "  </thead>\n",
       "  <tbody>\n",
       "    <tr>\n",
       "      <th>73</th>\n",
       "      <td>74</td>\n",
       "      <td>2024-11-05</td>\n",
       "      <td>Televisor</td>\n",
       "      <td>Electrodomésticos</td>\n",
       "      <td>200</td>\n",
       "      <td>3</td>\n",
       "      <td>800</td>\n",
       "      <td>Carlos Pérez</td>\n",
       "      <td>Norte</td>\n",
       "      <td>Pago_POS</td>\n",
       "    </tr>\n",
       "    <tr>\n",
       "      <th>130</th>\n",
       "      <td>131</td>\n",
       "      <td>2025-01-01</td>\n",
       "      <td>Cámara</td>\n",
       "      <td>Electrodomésticos</td>\n",
       "      <td>450</td>\n",
       "      <td>4</td>\n",
       "      <td>800</td>\n",
       "      <td>Pedro Castillo</td>\n",
       "      <td>Sur</td>\n",
       "      <td>Personal_Pay</td>\n",
       "    </tr>\n",
       "    <tr>\n",
       "      <th>146</th>\n",
       "      <td>147</td>\n",
       "      <td>2025-01-17</td>\n",
       "      <td>Tablet</td>\n",
       "      <td>Electrodomésticos</td>\n",
       "      <td>150</td>\n",
       "      <td>2</td>\n",
       "      <td>800</td>\n",
       "      <td>Sofía Martínez</td>\n",
       "      <td>Norte</td>\n",
       "      <td>Pago_POS</td>\n",
       "    </tr>\n",
       "    <tr>\n",
       "      <th>50</th>\n",
       "      <td>51</td>\n",
       "      <td>2024-10-13</td>\n",
       "      <td>Laptop</td>\n",
       "      <td>Electrodomésticos</td>\n",
       "      <td>500</td>\n",
       "      <td>2</td>\n",
       "      <td>800</td>\n",
       "      <td>Ana Torres</td>\n",
       "      <td>Norte</td>\n",
       "      <td>Pago_POS</td>\n",
       "    </tr>\n",
       "    <tr>\n",
       "      <th>15</th>\n",
       "      <td>16</td>\n",
       "      <td>2024-09-08</td>\n",
       "      <td>Aspiradora</td>\n",
       "      <td>Electrodomésticos</td>\n",
       "      <td>700</td>\n",
       "      <td>3</td>\n",
       "      <td>800</td>\n",
       "      <td>Sofía Martínez</td>\n",
       "      <td>Oeste</td>\n",
       "      <td>Transferencia</td>\n",
       "    </tr>\n",
       "    <tr>\n",
       "      <th>24</th>\n",
       "      <td>25</td>\n",
       "      <td>2024-09-17</td>\n",
       "      <td>Tablet</td>\n",
       "      <td>Electrodomésticos</td>\n",
       "      <td>750</td>\n",
       "      <td>4</td>\n",
       "      <td>800</td>\n",
       "      <td>Lucía García</td>\n",
       "      <td>Oeste</td>\n",
       "      <td>Tigo_Money</td>\n",
       "    </tr>\n",
       "    <tr>\n",
       "      <th>42</th>\n",
       "      <td>43</td>\n",
       "      <td>2024-10-05</td>\n",
       "      <td>Celular</td>\n",
       "      <td>Electrodomésticos</td>\n",
       "      <td>300</td>\n",
       "      <td>4</td>\n",
       "      <td>800</td>\n",
       "      <td>María López</td>\n",
       "      <td>Este</td>\n",
       "      <td>Personal_Pay</td>\n",
       "    </tr>\n",
       "    <tr>\n",
       "      <th>82</th>\n",
       "      <td>83</td>\n",
       "      <td>2024-11-14</td>\n",
       "      <td>Televisor</td>\n",
       "      <td>Electrónica</td>\n",
       "      <td>700</td>\n",
       "      <td>4</td>\n",
       "      <td>800</td>\n",
       "      <td>Pedro Castillo</td>\n",
       "      <td>Oeste</td>\n",
       "      <td>Tigo_Money</td>\n",
       "    </tr>\n",
       "    <tr>\n",
       "      <th>74</th>\n",
       "      <td>75</td>\n",
       "      <td>2024-11-06</td>\n",
       "      <td>Televisor</td>\n",
       "      <td>Electrodomésticos</td>\n",
       "      <td>150</td>\n",
       "      <td>1</td>\n",
       "      <td>800</td>\n",
       "      <td>Sofía Martínez</td>\n",
       "      <td>Oeste</td>\n",
       "      <td>Pago_POS</td>\n",
       "    </tr>\n",
       "    <tr>\n",
       "      <th>118</th>\n",
       "      <td>119</td>\n",
       "      <td>2024-12-20</td>\n",
       "      <td>Televisor</td>\n",
       "      <td>Electrónica</td>\n",
       "      <td>400</td>\n",
       "      <td>3</td>\n",
       "      <td>800</td>\n",
       "      <td>Carlos Pérez</td>\n",
       "      <td>Norte</td>\n",
       "      <td>Tigo_Money</td>\n",
       "    </tr>\n",
       "  </tbody>\n",
       "</table>\n",
       "</div>"
      ],
      "text/plain": [
       "     ID_Venta       Fecha    Producto          Categoria  Precio  Cantidad  \\\n",
       "73         74  2024-11-05   Televisor  Electrodomésticos     200         3   \n",
       "130       131  2025-01-01      Cámara  Electrodomésticos     450         4   \n",
       "146       147  2025-01-17      Tablet  Electrodomésticos     150         2   \n",
       "50         51  2024-10-13      Laptop  Electrodomésticos     500         2   \n",
       "15         16  2024-09-08  Aspiradora  Electrodomésticos     700         3   \n",
       "24         25  2024-09-17      Tablet  Electrodomésticos     750         4   \n",
       "42         43  2024-10-05     Celular  Electrodomésticos     300         4   \n",
       "82         83  2024-11-14   Televisor        Electrónica     700         4   \n",
       "74         75  2024-11-06   Televisor  Electrodomésticos     150         1   \n",
       "118       119  2024-12-20   Televisor        Electrónica     400         3   \n",
       "\n",
       "     Total         Cliente Region      Tipo_Pago  \n",
       "73     800    Carlos Pérez  Norte       Pago_POS  \n",
       "130    800  Pedro Castillo    Sur   Personal_Pay  \n",
       "146    800  Sofía Martínez  Norte       Pago_POS  \n",
       "50     800      Ana Torres  Norte       Pago_POS  \n",
       "15     800  Sofía Martínez  Oeste  Transferencia  \n",
       "24     800    Lucía García  Oeste     Tigo_Money  \n",
       "42     800     María López   Este   Personal_Pay  \n",
       "82     800  Pedro Castillo  Oeste     Tigo_Money  \n",
       "74     800  Sofía Martínez  Oeste       Pago_POS  \n",
       "118    800    Carlos Pérez  Norte     Tigo_Money  "
      ]
     },
     "execution_count": 49,
     "metadata": {},
     "output_type": "execute_result"
    }
   ],
   "source": [
    "df.sample(10)"
   ]
  },
  {
   "cell_type": "markdown",
   "metadata": {},
   "source": [
    "Selecciona la columna Tipo_Pago del DataFrame.\n",
    "\n",
    "Esto te permite identificar qué métodos de pago son más comunes en los datos."
   ]
  },
  {
   "cell_type": "code",
   "execution_count": 16,
   "metadata": {},
   "outputs": [
    {
     "data": {
      "text/plain": [
       "Tipo_Pago\n",
       "Tigo_Money       47\n",
       "Transferencia    33\n",
       "Efectivo         28\n",
       "Pago_POS         27\n",
       "Personal_Pay     23\n",
       "Name: count, dtype: int64"
      ]
     },
     "execution_count": 16,
     "metadata": {},
     "output_type": "execute_result"
    }
   ],
   "source": [
    "df.Tipo_Pago.value_counts()"
   ]
  },
  {
   "cell_type": "code",
   "execution_count": 25,
   "metadata": {},
   "outputs": [
    {
     "data": {
      "text/plain": [
       "Tipo_Pago\n",
       "Tigo_Money       47\n",
       "Transferencia    33\n",
       "Efectivo         28\n",
       "Pago_POS         27\n",
       "Personal_Pay     23\n",
       "Name: count, dtype: int64"
      ]
     },
     "execution_count": 25,
     "metadata": {},
     "output_type": "execute_result"
    }
   ],
   "source": [
    "# Contar las frecuencias de cada método de pago\n",
    "tipo_pago = df['Tipo_Pago'].value_counts()\n",
    "tipo_pago"
   ]
  },
  {
   "cell_type": "code",
   "execution_count": 29,
   "metadata": {},
   "outputs": [],
   "source": [
    "# Convertir a un DataFrame para usarlo con Plotly\n",
    "tipo_pago_df = tipo_pago.reset_index()\n",
    "tipo_pago_df.columns = ['Tipo_Pago','Frecuencia']"
   ]
  },
  {
   "cell_type": "code",
   "execution_count": 27,
   "metadata": {},
   "outputs": [],
   "source": [
    "# Crear el gráfico de barras\n",
    "fig = px.bar(\n",
    "    tipo_pago_df,\n",
    "    x='Tipo_Pago',\n",
    "    y='Frecuencia',\n",
    "    title='Frecuencia de motedos de pago',\n",
    "    labels={'Tipo_Pago': 'Método de Pago', 'Frecuencia': 'Cantidad'},\n",
    "    color='Frecuencia',\n",
    "    text='Frecuencia'\n",
    ")"
   ]
  },
  {
   "cell_type": "code",
   "execution_count": 28,
   "metadata": {},
   "outputs": [
    {
     "data": {
      "application/vnd.plotly.v1+json": {
       "config": {
        "plotlyServerURL": "https://plot.ly"
       },
       "data": [
        {
         "alignmentgroup": "True",
         "hovertemplate": "Método de Pago=%{x}<br>Cantidad=%{marker.color}<extra></extra>",
         "legendgroup": "",
         "marker": {
          "color": [
           47,
           33,
           28,
           27,
           23
          ],
          "coloraxis": "coloraxis",
          "pattern": {
           "shape": ""
          }
         },
         "name": "",
         "offsetgroup": "",
         "orientation": "v",
         "showlegend": false,
         "text": [
          47,
          33,
          28,
          27,
          23
         ],
         "textposition": "outside",
         "type": "bar",
         "x": [
          "Tigo_Money",
          "Transferencia",
          "Efectivo",
          "Pago_POS",
          "Personal_Pay"
         ],
         "xaxis": "x",
         "y": [
          47,
          33,
          28,
          27,
          23
         ],
         "yaxis": "y"
        }
       ],
       "layout": {
        "barmode": "relative",
        "coloraxis": {
         "colorbar": {
          "title": {
           "text": "Cantidad"
          }
         },
         "colorscale": [
          [
           0,
           "#0d0887"
          ],
          [
           0.1111111111111111,
           "#46039f"
          ],
          [
           0.2222222222222222,
           "#7201a8"
          ],
          [
           0.3333333333333333,
           "#9c179e"
          ],
          [
           0.4444444444444444,
           "#bd3786"
          ],
          [
           0.5555555555555556,
           "#d8576b"
          ],
          [
           0.6666666666666666,
           "#ed7953"
          ],
          [
           0.7777777777777778,
           "#fb9f3a"
          ],
          [
           0.8888888888888888,
           "#fdca26"
          ],
          [
           1,
           "#f0f921"
          ]
         ]
        },
        "legend": {
         "tracegroupgap": 0
        },
        "template": {
         "data": {
          "bar": [
           {
            "error_x": {
             "color": "#2a3f5f"
            },
            "error_y": {
             "color": "#2a3f5f"
            },
            "marker": {
             "line": {
              "color": "white",
              "width": 0.5
             },
             "pattern": {
              "fillmode": "overlay",
              "size": 10,
              "solidity": 0.2
             }
            },
            "type": "bar"
           }
          ],
          "barpolar": [
           {
            "marker": {
             "line": {
              "color": "white",
              "width": 0.5
             },
             "pattern": {
              "fillmode": "overlay",
              "size": 10,
              "solidity": 0.2
             }
            },
            "type": "barpolar"
           }
          ],
          "carpet": [
           {
            "aaxis": {
             "endlinecolor": "#2a3f5f",
             "gridcolor": "#C8D4E3",
             "linecolor": "#C8D4E3",
             "minorgridcolor": "#C8D4E3",
             "startlinecolor": "#2a3f5f"
            },
            "baxis": {
             "endlinecolor": "#2a3f5f",
             "gridcolor": "#C8D4E3",
             "linecolor": "#C8D4E3",
             "minorgridcolor": "#C8D4E3",
             "startlinecolor": "#2a3f5f"
            },
            "type": "carpet"
           }
          ],
          "choropleth": [
           {
            "colorbar": {
             "outlinewidth": 0,
             "ticks": ""
            },
            "type": "choropleth"
           }
          ],
          "contour": [
           {
            "colorbar": {
             "outlinewidth": 0,
             "ticks": ""
            },
            "colorscale": [
             [
              0,
              "#0d0887"
             ],
             [
              0.1111111111111111,
              "#46039f"
             ],
             [
              0.2222222222222222,
              "#7201a8"
             ],
             [
              0.3333333333333333,
              "#9c179e"
             ],
             [
              0.4444444444444444,
              "#bd3786"
             ],
             [
              0.5555555555555556,
              "#d8576b"
             ],
             [
              0.6666666666666666,
              "#ed7953"
             ],
             [
              0.7777777777777778,
              "#fb9f3a"
             ],
             [
              0.8888888888888888,
              "#fdca26"
             ],
             [
              1,
              "#f0f921"
             ]
            ],
            "type": "contour"
           }
          ],
          "contourcarpet": [
           {
            "colorbar": {
             "outlinewidth": 0,
             "ticks": ""
            },
            "type": "contourcarpet"
           }
          ],
          "heatmap": [
           {
            "colorbar": {
             "outlinewidth": 0,
             "ticks": ""
            },
            "colorscale": [
             [
              0,
              "#0d0887"
             ],
             [
              0.1111111111111111,
              "#46039f"
             ],
             [
              0.2222222222222222,
              "#7201a8"
             ],
             [
              0.3333333333333333,
              "#9c179e"
             ],
             [
              0.4444444444444444,
              "#bd3786"
             ],
             [
              0.5555555555555556,
              "#d8576b"
             ],
             [
              0.6666666666666666,
              "#ed7953"
             ],
             [
              0.7777777777777778,
              "#fb9f3a"
             ],
             [
              0.8888888888888888,
              "#fdca26"
             ],
             [
              1,
              "#f0f921"
             ]
            ],
            "type": "heatmap"
           }
          ],
          "heatmapgl": [
           {
            "colorbar": {
             "outlinewidth": 0,
             "ticks": ""
            },
            "colorscale": [
             [
              0,
              "#0d0887"
             ],
             [
              0.1111111111111111,
              "#46039f"
             ],
             [
              0.2222222222222222,
              "#7201a8"
             ],
             [
              0.3333333333333333,
              "#9c179e"
             ],
             [
              0.4444444444444444,
              "#bd3786"
             ],
             [
              0.5555555555555556,
              "#d8576b"
             ],
             [
              0.6666666666666666,
              "#ed7953"
             ],
             [
              0.7777777777777778,
              "#fb9f3a"
             ],
             [
              0.8888888888888888,
              "#fdca26"
             ],
             [
              1,
              "#f0f921"
             ]
            ],
            "type": "heatmapgl"
           }
          ],
          "histogram": [
           {
            "marker": {
             "pattern": {
              "fillmode": "overlay",
              "size": 10,
              "solidity": 0.2
             }
            },
            "type": "histogram"
           }
          ],
          "histogram2d": [
           {
            "colorbar": {
             "outlinewidth": 0,
             "ticks": ""
            },
            "colorscale": [
             [
              0,
              "#0d0887"
             ],
             [
              0.1111111111111111,
              "#46039f"
             ],
             [
              0.2222222222222222,
              "#7201a8"
             ],
             [
              0.3333333333333333,
              "#9c179e"
             ],
             [
              0.4444444444444444,
              "#bd3786"
             ],
             [
              0.5555555555555556,
              "#d8576b"
             ],
             [
              0.6666666666666666,
              "#ed7953"
             ],
             [
              0.7777777777777778,
              "#fb9f3a"
             ],
             [
              0.8888888888888888,
              "#fdca26"
             ],
             [
              1,
              "#f0f921"
             ]
            ],
            "type": "histogram2d"
           }
          ],
          "histogram2dcontour": [
           {
            "colorbar": {
             "outlinewidth": 0,
             "ticks": ""
            },
            "colorscale": [
             [
              0,
              "#0d0887"
             ],
             [
              0.1111111111111111,
              "#46039f"
             ],
             [
              0.2222222222222222,
              "#7201a8"
             ],
             [
              0.3333333333333333,
              "#9c179e"
             ],
             [
              0.4444444444444444,
              "#bd3786"
             ],
             [
              0.5555555555555556,
              "#d8576b"
             ],
             [
              0.6666666666666666,
              "#ed7953"
             ],
             [
              0.7777777777777778,
              "#fb9f3a"
             ],
             [
              0.8888888888888888,
              "#fdca26"
             ],
             [
              1,
              "#f0f921"
             ]
            ],
            "type": "histogram2dcontour"
           }
          ],
          "mesh3d": [
           {
            "colorbar": {
             "outlinewidth": 0,
             "ticks": ""
            },
            "type": "mesh3d"
           }
          ],
          "parcoords": [
           {
            "line": {
             "colorbar": {
              "outlinewidth": 0,
              "ticks": ""
             }
            },
            "type": "parcoords"
           }
          ],
          "pie": [
           {
            "automargin": true,
            "type": "pie"
           }
          ],
          "scatter": [
           {
            "fillpattern": {
             "fillmode": "overlay",
             "size": 10,
             "solidity": 0.2
            },
            "type": "scatter"
           }
          ],
          "scatter3d": [
           {
            "line": {
             "colorbar": {
              "outlinewidth": 0,
              "ticks": ""
             }
            },
            "marker": {
             "colorbar": {
              "outlinewidth": 0,
              "ticks": ""
             }
            },
            "type": "scatter3d"
           }
          ],
          "scattercarpet": [
           {
            "marker": {
             "colorbar": {
              "outlinewidth": 0,
              "ticks": ""
             }
            },
            "type": "scattercarpet"
           }
          ],
          "scattergeo": [
           {
            "marker": {
             "colorbar": {
              "outlinewidth": 0,
              "ticks": ""
             }
            },
            "type": "scattergeo"
           }
          ],
          "scattergl": [
           {
            "marker": {
             "colorbar": {
              "outlinewidth": 0,
              "ticks": ""
             }
            },
            "type": "scattergl"
           }
          ],
          "scattermapbox": [
           {
            "marker": {
             "colorbar": {
              "outlinewidth": 0,
              "ticks": ""
             }
            },
            "type": "scattermapbox"
           }
          ],
          "scatterpolar": [
           {
            "marker": {
             "colorbar": {
              "outlinewidth": 0,
              "ticks": ""
             }
            },
            "type": "scatterpolar"
           }
          ],
          "scatterpolargl": [
           {
            "marker": {
             "colorbar": {
              "outlinewidth": 0,
              "ticks": ""
             }
            },
            "type": "scatterpolargl"
           }
          ],
          "scatterternary": [
           {
            "marker": {
             "colorbar": {
              "outlinewidth": 0,
              "ticks": ""
             }
            },
            "type": "scatterternary"
           }
          ],
          "surface": [
           {
            "colorbar": {
             "outlinewidth": 0,
             "ticks": ""
            },
            "colorscale": [
             [
              0,
              "#0d0887"
             ],
             [
              0.1111111111111111,
              "#46039f"
             ],
             [
              0.2222222222222222,
              "#7201a8"
             ],
             [
              0.3333333333333333,
              "#9c179e"
             ],
             [
              0.4444444444444444,
              "#bd3786"
             ],
             [
              0.5555555555555556,
              "#d8576b"
             ],
             [
              0.6666666666666666,
              "#ed7953"
             ],
             [
              0.7777777777777778,
              "#fb9f3a"
             ],
             [
              0.8888888888888888,
              "#fdca26"
             ],
             [
              1,
              "#f0f921"
             ]
            ],
            "type": "surface"
           }
          ],
          "table": [
           {
            "cells": {
             "fill": {
              "color": "#EBF0F8"
             },
             "line": {
              "color": "white"
             }
            },
            "header": {
             "fill": {
              "color": "#C8D4E3"
             },
             "line": {
              "color": "white"
             }
            },
            "type": "table"
           }
          ]
         },
         "layout": {
          "annotationdefaults": {
           "arrowcolor": "#2a3f5f",
           "arrowhead": 0,
           "arrowwidth": 1
          },
          "autotypenumbers": "strict",
          "coloraxis": {
           "colorbar": {
            "outlinewidth": 0,
            "ticks": ""
           }
          },
          "colorscale": {
           "diverging": [
            [
             0,
             "#8e0152"
            ],
            [
             0.1,
             "#c51b7d"
            ],
            [
             0.2,
             "#de77ae"
            ],
            [
             0.3,
             "#f1b6da"
            ],
            [
             0.4,
             "#fde0ef"
            ],
            [
             0.5,
             "#f7f7f7"
            ],
            [
             0.6,
             "#e6f5d0"
            ],
            [
             0.7,
             "#b8e186"
            ],
            [
             0.8,
             "#7fbc41"
            ],
            [
             0.9,
             "#4d9221"
            ],
            [
             1,
             "#276419"
            ]
           ],
           "sequential": [
            [
             0,
             "#0d0887"
            ],
            [
             0.1111111111111111,
             "#46039f"
            ],
            [
             0.2222222222222222,
             "#7201a8"
            ],
            [
             0.3333333333333333,
             "#9c179e"
            ],
            [
             0.4444444444444444,
             "#bd3786"
            ],
            [
             0.5555555555555556,
             "#d8576b"
            ],
            [
             0.6666666666666666,
             "#ed7953"
            ],
            [
             0.7777777777777778,
             "#fb9f3a"
            ],
            [
             0.8888888888888888,
             "#fdca26"
            ],
            [
             1,
             "#f0f921"
            ]
           ],
           "sequentialminus": [
            [
             0,
             "#0d0887"
            ],
            [
             0.1111111111111111,
             "#46039f"
            ],
            [
             0.2222222222222222,
             "#7201a8"
            ],
            [
             0.3333333333333333,
             "#9c179e"
            ],
            [
             0.4444444444444444,
             "#bd3786"
            ],
            [
             0.5555555555555556,
             "#d8576b"
            ],
            [
             0.6666666666666666,
             "#ed7953"
            ],
            [
             0.7777777777777778,
             "#fb9f3a"
            ],
            [
             0.8888888888888888,
             "#fdca26"
            ],
            [
             1,
             "#f0f921"
            ]
           ]
          },
          "colorway": [
           "#636efa",
           "#EF553B",
           "#00cc96",
           "#ab63fa",
           "#FFA15A",
           "#19d3f3",
           "#FF6692",
           "#B6E880",
           "#FF97FF",
           "#FECB52"
          ],
          "font": {
           "color": "#2a3f5f"
          },
          "geo": {
           "bgcolor": "white",
           "lakecolor": "white",
           "landcolor": "white",
           "showlakes": true,
           "showland": true,
           "subunitcolor": "#C8D4E3"
          },
          "hoverlabel": {
           "align": "left"
          },
          "hovermode": "closest",
          "mapbox": {
           "style": "light"
          },
          "paper_bgcolor": "white",
          "plot_bgcolor": "white",
          "polar": {
           "angularaxis": {
            "gridcolor": "#EBF0F8",
            "linecolor": "#EBF0F8",
            "ticks": ""
           },
           "bgcolor": "white",
           "radialaxis": {
            "gridcolor": "#EBF0F8",
            "linecolor": "#EBF0F8",
            "ticks": ""
           }
          },
          "scene": {
           "xaxis": {
            "backgroundcolor": "white",
            "gridcolor": "#DFE8F3",
            "gridwidth": 2,
            "linecolor": "#EBF0F8",
            "showbackground": true,
            "ticks": "",
            "zerolinecolor": "#EBF0F8"
           },
           "yaxis": {
            "backgroundcolor": "white",
            "gridcolor": "#DFE8F3",
            "gridwidth": 2,
            "linecolor": "#EBF0F8",
            "showbackground": true,
            "ticks": "",
            "zerolinecolor": "#EBF0F8"
           },
           "zaxis": {
            "backgroundcolor": "white",
            "gridcolor": "#DFE8F3",
            "gridwidth": 2,
            "linecolor": "#EBF0F8",
            "showbackground": true,
            "ticks": "",
            "zerolinecolor": "#EBF0F8"
           }
          },
          "shapedefaults": {
           "line": {
            "color": "#2a3f5f"
           }
          },
          "ternary": {
           "aaxis": {
            "gridcolor": "#DFE8F3",
            "linecolor": "#A2B1C6",
            "ticks": ""
           },
           "baxis": {
            "gridcolor": "#DFE8F3",
            "linecolor": "#A2B1C6",
            "ticks": ""
           },
           "bgcolor": "white",
           "caxis": {
            "gridcolor": "#DFE8F3",
            "linecolor": "#A2B1C6",
            "ticks": ""
           }
          },
          "title": {
           "x": 0.05
          },
          "xaxis": {
           "automargin": true,
           "gridcolor": "#EBF0F8",
           "linecolor": "#EBF0F8",
           "ticks": "",
           "title": {
            "standoff": 15
           },
           "zerolinecolor": "#EBF0F8",
           "zerolinewidth": 2
          },
          "yaxis": {
           "automargin": true,
           "gridcolor": "#EBF0F8",
           "linecolor": "#EBF0F8",
           "ticks": "",
           "title": {
            "standoff": 15
           },
           "zerolinecolor": "#EBF0F8",
           "zerolinewidth": 2
          }
         }
        },
        "title": {
         "text": "Frecuencia de motedos de pago"
        },
        "xaxis": {
         "anchor": "y",
         "domain": [
          0,
          1
         ],
         "title": {
          "text": "Metodo de Pago"
         }
        },
        "yaxis": {
         "anchor": "x",
         "domain": [
          0,
          1
         ],
         "title": {
          "text": "Frecuencia"
         }
        }
       }
      }
     },
     "metadata": {},
     "output_type": "display_data"
    }
   ],
   "source": [
    "# Personalizar el diseño\n",
    "\n",
    "fig.update_traces(textposition='outside')\n",
    "fig.update_layout(\n",
    "    xaxis_title='Metodo de Pago',\n",
    "    yaxis_title='Frecuencia',\n",
    "    template='plotly_white'\n",
    ")\n",
    "\n",
    "fig.show()"
   ]
  },
  {
   "cell_type": "markdown",
   "metadata": {},
   "source": [
    "Explicación del código\n",
    "\n",
    "Contar frecuencias:\n",
    "\n",
    "- Usamos value_counts() para obtener la cantidad de cada tipo de pago.\n",
    "\n",
    "- Convertimos el resultado en un DataFrame para usarlo fácilmente con Plotly.\n",
    "\n",
    "Crear el gráfico:\n",
    "\n",
    "- px.bar: Crea un gráfico de barras.\n",
    "\n",
    "- x y y: Define las columnas para los ejes X e Y.\n",
    "\n",
    "- color: Colorea las barras en función de los valores de frecuencia.\n",
    "\n",
    "- text: Agrega etiquetas de texto con las frecuencias en las barras.\n",
    "\n",
    "Personalización:\n",
    "\n",
    "- Las etiquetas se colocan fuera de las barras (textposition='outside').\n",
    "\n",
    "- Se usa un diseño limpio con template='plotly_white'.\n",
    "\n",
    "Resultado esperado\n",
    "\n",
    "Un gráfico de barras interactivo que muestra:\n",
    "\n",
    "- Los métodos de pago en el eje X.\n",
    "\n",
    "- La frecuencia de cada método en el eje Y.\n",
    "\n",
    "- Etiquetas de texto con los valores de frecuencia encima de cada barra"
   ]
  },
  {
   "cell_type": "markdown",
   "metadata": {},
   "source": []
  }
 ],
 "metadata": {
  "kernelspec": {
   "display_name": "Python 3",
   "language": "python",
   "name": "python3"
  },
  "language_info": {
   "codemirror_mode": {
    "name": "ipython",
    "version": 3
   },
   "file_extension": ".py",
   "mimetype": "text/x-python",
   "name": "python",
   "nbconvert_exporter": "python",
   "pygments_lexer": "ipython3",
   "version": "3.10.0"
  }
 },
 "nbformat": 4,
 "nbformat_minor": 2
}
